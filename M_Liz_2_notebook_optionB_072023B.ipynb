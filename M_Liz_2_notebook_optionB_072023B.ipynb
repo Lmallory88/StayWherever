{
 "cells": [
  {
   "cell_type": "markdown",
   "id": "retired-frame",
   "metadata": {},
   "source": [
    "# StayWhereEver"
   ]
  },
  {
   "cell_type": "markdown",
   "id": "static-january",
   "metadata": {},
   "source": [
    "## Imports\n",
    "Import the libraries we need to perform the analysis."
   ]
  },
  {
   "cell_type": "code",
   "execution_count": 93,
   "id": "english-concept",
   "metadata": {},
   "outputs": [],
   "source": [
    "import pandas as pd\n",
    "import numpy as np\n",
    "import matplotlib.pyplot as plt\n",
    "import seaborn as sns\n",
    "import statsmodels.api as sm\n",
    "import scipy.stats as st"
   ]
  },
  {
   "cell_type": "markdown",
   "id": "automatic-integrity",
   "metadata": {
    "tags": [],
    "toc-hr-collapsed": true
   },
   "source": [
    "## Task 3:  Initial Exploration\n"
   ]
  },
  {
   "cell_type": "markdown",
   "id": "premier-longitude",
   "metadata": {},
   "source": [
    "<div style=\"background-color:#f8d7da; border:1px solid; padding:5px; margin:5px; font-weight:bold\"><font color=\"crimson\">\n"
   ]
  },
  {
   "cell_type": "code",
   "execution_count": 94,
   "id": "dated-christian",
   "metadata": {},
   "outputs": [],
   "source": [
    "\n",
    "neighborhoods = pd.read_csv(\"neighborhoods.csv\")"
   ]
  },
  {
   "cell_type": "code",
   "execution_count": 95,
   "id": "8bffa719",
   "metadata": {},
   "outputs": [],
   "source": [
    "properties = pd.read_csv(\"properties.csv\", low_memory=False)"
   ]
  },
  {
   "cell_type": "code",
   "execution_count": 96,
   "id": "quality-hazard",
   "metadata": {},
   "outputs": [
    {
     "data": {
      "text/html": [
       "<div>\n",
       "<style scoped>\n",
       "    .dataframe tbody tr th:only-of-type {\n",
       "        vertical-align: middle;\n",
       "    }\n",
       "\n",
       "    .dataframe tbody tr th {\n",
       "        vertical-align: top;\n",
       "    }\n",
       "\n",
       "    .dataframe thead th {\n",
       "        text-align: right;\n",
       "    }\n",
       "</style>\n",
       "<table border=\"1\" class=\"dataframe\">\n",
       "  <thead>\n",
       "    <tr style=\"text-align: right;\">\n",
       "      <th></th>\n",
       "      <th>id</th>\n",
       "      <th>neighborhood_group</th>\n",
       "      <th>neighborhood</th>\n",
       "      <th>country</th>\n",
       "    </tr>\n",
       "  </thead>\n",
       "  <tbody>\n",
       "    <tr>\n",
       "      <th>0</th>\n",
       "      <td>1</td>\n",
       "      <td>Brooklyn</td>\n",
       "      <td>Kensington</td>\n",
       "      <td>United States</td>\n",
       "    </tr>\n",
       "    <tr>\n",
       "      <th>1</th>\n",
       "      <td>2</td>\n",
       "      <td>Manhattan</td>\n",
       "      <td>Midtown</td>\n",
       "      <td>United States</td>\n",
       "    </tr>\n",
       "    <tr>\n",
       "      <th>2</th>\n",
       "      <td>3</td>\n",
       "      <td>Manhattan</td>\n",
       "      <td>Harlem</td>\n",
       "      <td>United States</td>\n",
       "    </tr>\n",
       "    <tr>\n",
       "      <th>3</th>\n",
       "      <td>4</td>\n",
       "      <td>Brooklyn</td>\n",
       "      <td>Clinton Hill</td>\n",
       "      <td>United States</td>\n",
       "    </tr>\n",
       "    <tr>\n",
       "      <th>4</th>\n",
       "      <td>5</td>\n",
       "      <td>Manhattan</td>\n",
       "      <td>East Harlem</td>\n",
       "      <td>United States</td>\n",
       "    </tr>\n",
       "  </tbody>\n",
       "</table>\n",
       "</div>"
      ],
      "text/plain": [
       "   id neighborhood_group  neighborhood        country\n",
       "0   1           Brooklyn    Kensington  United States\n",
       "1   2          Manhattan       Midtown  United States\n",
       "2   3          Manhattan        Harlem  United States\n",
       "3   4           Brooklyn  Clinton Hill  United States\n",
       "4   5          Manhattan   East Harlem  United States"
      ]
     },
     "execution_count": 96,
     "metadata": {},
     "output_type": "execute_result"
    }
   ],
   "source": [
    "\n",
    "neighborhoods.head()"
   ]
  },
  {
   "cell_type": "code",
   "execution_count": 97,
   "id": "0c41568f",
   "metadata": {},
   "outputs": [
    {
     "data": {
      "text/html": [
       "<div>\n",
       "<style scoped>\n",
       "    .dataframe tbody tr th:only-of-type {\n",
       "        vertical-align: middle;\n",
       "    }\n",
       "\n",
       "    .dataframe tbody tr th {\n",
       "        vertical-align: top;\n",
       "    }\n",
       "\n",
       "    .dataframe thead th {\n",
       "        text-align: right;\n",
       "    }\n",
       "</style>\n",
       "<table border=\"1\" class=\"dataframe\">\n",
       "  <thead>\n",
       "    <tr style=\"text-align: right;\">\n",
       "      <th></th>\n",
       "      <th>id</th>\n",
       "      <th>name</th>\n",
       "      <th>host_id</th>\n",
       "      <th>host_identity_verified</th>\n",
       "      <th>host_name</th>\n",
       "      <th>latitude</th>\n",
       "      <th>longitude</th>\n",
       "      <th>neighborhood_id</th>\n",
       "      <th>instant_bookable</th>\n",
       "      <th>cancellation_policy</th>\n",
       "      <th>room_type</th>\n",
       "      <th>price</th>\n",
       "      <th>service_fee</th>\n",
       "      <th>minimum_nights</th>\n",
       "      <th>number_of_reviews</th>\n",
       "      <th>last_review</th>\n",
       "      <th>reviews_per_month</th>\n",
       "      <th>availability_365</th>\n",
       "      <th>house_rules</th>\n",
       "      <th>license</th>\n",
       "    </tr>\n",
       "  </thead>\n",
       "  <tbody>\n",
       "    <tr>\n",
       "      <th>0</th>\n",
       "      <td>1001254</td>\n",
       "      <td>Clean &amp; quiet apt home by the park</td>\n",
       "      <td>80014485718</td>\n",
       "      <td>unconfirmed</td>\n",
       "      <td>Madaline</td>\n",
       "      <td>40.64749</td>\n",
       "      <td>-73.97237</td>\n",
       "      <td>1.0</td>\n",
       "      <td>False</td>\n",
       "      <td>strict</td>\n",
       "      <td>Private room</td>\n",
       "      <td>$966</td>\n",
       "      <td>$193</td>\n",
       "      <td>10.0</td>\n",
       "      <td>9.0</td>\n",
       "      <td>10/19/2021</td>\n",
       "      <td>0.21</td>\n",
       "      <td>286.0</td>\n",
       "      <td>Clean up and treat the home the way you'd like...</td>\n",
       "      <td>NaN</td>\n",
       "    </tr>\n",
       "    <tr>\n",
       "      <th>1</th>\n",
       "      <td>1002102</td>\n",
       "      <td>Skylit Midtown Castle</td>\n",
       "      <td>52335172823</td>\n",
       "      <td>verified</td>\n",
       "      <td>Jenna</td>\n",
       "      <td>40.75362</td>\n",
       "      <td>-73.98377</td>\n",
       "      <td>2.0</td>\n",
       "      <td>False</td>\n",
       "      <td>moderate</td>\n",
       "      <td>Entire home/apt</td>\n",
       "      <td>$142</td>\n",
       "      <td>$28</td>\n",
       "      <td>30.0</td>\n",
       "      <td>45.0</td>\n",
       "      <td>5/21/2022</td>\n",
       "      <td>0.38</td>\n",
       "      <td>228.0</td>\n",
       "      <td>Pet friendly but please confirm with me if the...</td>\n",
       "      <td>NaN</td>\n",
       "    </tr>\n",
       "    <tr>\n",
       "      <th>2</th>\n",
       "      <td>1002403</td>\n",
       "      <td>THE VILLAGE OF HARLEM....NEW YORK !</td>\n",
       "      <td>78829239556</td>\n",
       "      <td>NaN</td>\n",
       "      <td>Elise</td>\n",
       "      <td>40.80902</td>\n",
       "      <td>-73.94190</td>\n",
       "      <td>3.0</td>\n",
       "      <td>True</td>\n",
       "      <td>flexible</td>\n",
       "      <td>Private room</td>\n",
       "      <td>$620</td>\n",
       "      <td>$124</td>\n",
       "      <td>3.0</td>\n",
       "      <td>0.0</td>\n",
       "      <td>NaN</td>\n",
       "      <td>NaN</td>\n",
       "      <td>352.0</td>\n",
       "      <td>I encourage you to use my kitchen, cooking and...</td>\n",
       "      <td>NaN</td>\n",
       "    </tr>\n",
       "    <tr>\n",
       "      <th>3</th>\n",
       "      <td>1002755</td>\n",
       "      <td>NaN</td>\n",
       "      <td>85098326012</td>\n",
       "      <td>unconfirmed</td>\n",
       "      <td>Garry</td>\n",
       "      <td>40.68514</td>\n",
       "      <td>-73.95976</td>\n",
       "      <td>4.0</td>\n",
       "      <td>True</td>\n",
       "      <td>moderate</td>\n",
       "      <td>Entire home/apt</td>\n",
       "      <td>$368</td>\n",
       "      <td>$74</td>\n",
       "      <td>30.0</td>\n",
       "      <td>270.0</td>\n",
       "      <td>7/5/2019</td>\n",
       "      <td>4.64</td>\n",
       "      <td>322.0</td>\n",
       "      <td>NaN</td>\n",
       "      <td>NaN</td>\n",
       "    </tr>\n",
       "    <tr>\n",
       "      <th>4</th>\n",
       "      <td>1003689</td>\n",
       "      <td>Entire Apt: Spacious Studio/Loft by central park</td>\n",
       "      <td>92037596077</td>\n",
       "      <td>verified</td>\n",
       "      <td>Lyndon</td>\n",
       "      <td>40.79851</td>\n",
       "      <td>-73.94399</td>\n",
       "      <td>5.0</td>\n",
       "      <td>False</td>\n",
       "      <td>moderate</td>\n",
       "      <td>Entire home/apt</td>\n",
       "      <td>$204</td>\n",
       "      <td>$41</td>\n",
       "      <td>10.0</td>\n",
       "      <td>9.0</td>\n",
       "      <td>11/19/2018</td>\n",
       "      <td>0.10</td>\n",
       "      <td>289.0</td>\n",
       "      <td>Please no smoking in the house, porch or on th...</td>\n",
       "      <td>NaN</td>\n",
       "    </tr>\n",
       "  </tbody>\n",
       "</table>\n",
       "</div>"
      ],
      "text/plain": [
       "        id                                              name      host_id  \\\n",
       "0  1001254                Clean & quiet apt home by the park  80014485718   \n",
       "1  1002102                             Skylit Midtown Castle  52335172823   \n",
       "2  1002403               THE VILLAGE OF HARLEM....NEW YORK !  78829239556   \n",
       "3  1002755                                               NaN  85098326012   \n",
       "4  1003689  Entire Apt: Spacious Studio/Loft by central park  92037596077   \n",
       "\n",
       "  host_identity_verified host_name  latitude  longitude  neighborhood_id  \\\n",
       "0            unconfirmed  Madaline  40.64749  -73.97237              1.0   \n",
       "1               verified     Jenna  40.75362  -73.98377              2.0   \n",
       "2                    NaN     Elise  40.80902  -73.94190              3.0   \n",
       "3            unconfirmed     Garry  40.68514  -73.95976              4.0   \n",
       "4               verified    Lyndon  40.79851  -73.94399              5.0   \n",
       "\n",
       "  instant_bookable cancellation_policy        room_type  price service_fee  \\\n",
       "0            False              strict     Private room  $966        $193    \n",
       "1            False            moderate  Entire home/apt  $142         $28    \n",
       "2             True            flexible     Private room  $620        $124    \n",
       "3             True            moderate  Entire home/apt  $368         $74    \n",
       "4            False            moderate  Entire home/apt  $204         $41    \n",
       "\n",
       "   minimum_nights  number_of_reviews last_review  reviews_per_month  \\\n",
       "0            10.0                9.0  10/19/2021               0.21   \n",
       "1            30.0               45.0   5/21/2022               0.38   \n",
       "2             3.0                0.0         NaN                NaN   \n",
       "3            30.0              270.0    7/5/2019               4.64   \n",
       "4            10.0                9.0  11/19/2018               0.10   \n",
       "\n",
       "   availability_365                                        house_rules license  \n",
       "0             286.0  Clean up and treat the home the way you'd like...     NaN  \n",
       "1             228.0  Pet friendly but please confirm with me if the...     NaN  \n",
       "2             352.0  I encourage you to use my kitchen, cooking and...     NaN  \n",
       "3             322.0                                                NaN     NaN  \n",
       "4             289.0  Please no smoking in the house, porch or on th...     NaN  "
      ]
     },
     "execution_count": 97,
     "metadata": {},
     "output_type": "execute_result"
    }
   ],
   "source": [
    "properties.head()"
   ]
  },
  {
   "cell_type": "code",
   "execution_count": 98,
   "id": "derived-regression",
   "metadata": {},
   "outputs": [
    {
     "data": {
      "text/plain": [
       "(102058, 20)"
      ]
     },
     "execution_count": 98,
     "metadata": {},
     "output_type": "execute_result"
    }
   ],
   "source": [
    "properties.shape"
   ]
  },
  {
   "cell_type": "code",
   "execution_count": 99,
   "id": "c0364ab6",
   "metadata": {},
   "outputs": [
    {
     "data": {
      "text/plain": [
       "(223, 4)"
      ]
     },
     "execution_count": 99,
     "metadata": {},
     "output_type": "execute_result"
    }
   ],
   "source": [
    "neighborhoods.shape"
   ]
  },
  {
   "cell_type": "code",
   "execution_count": 100,
   "id": "encouraging-battery",
   "metadata": {},
   "outputs": [
    {
     "data": {
      "text/plain": [
       "Index(['id', 'name', 'host_id', 'host_identity_verified', 'host_name',\n",
       "       'latitude', 'longitude', 'neighborhood_id', 'instant_bookable',\n",
       "       'cancellation_policy', 'room_type', 'price', 'service_fee',\n",
       "       'minimum_nights', 'number_of_reviews', 'last_review',\n",
       "       'reviews_per_month', 'availability_365', 'house_rules', 'license'],\n",
       "      dtype='object')"
      ]
     },
     "execution_count": 100,
     "metadata": {},
     "output_type": "execute_result"
    }
   ],
   "source": [
    "\n",
    "properties.columns"
   ]
  },
  {
   "cell_type": "code",
   "execution_count": 101,
   "id": "107ad191",
   "metadata": {},
   "outputs": [
    {
     "data": {
      "text/plain": [
       "Index(['id', 'neighborhood_group', 'neighborhood', 'country'], dtype='object')"
      ]
     },
     "execution_count": 101,
     "metadata": {},
     "output_type": "execute_result"
    }
   ],
   "source": [
    "neighborhoods.columns"
   ]
  },
  {
   "cell_type": "code",
   "execution_count": 102,
   "id": "seasonal-celebration",
   "metadata": {},
   "outputs": [
    {
     "data": {
      "text/plain": [
       "id                     int64\n",
       "neighborhood_group    object\n",
       "neighborhood          object\n",
       "country               object\n",
       "dtype: object"
      ]
     },
     "execution_count": 102,
     "metadata": {},
     "output_type": "execute_result"
    }
   ],
   "source": [
    "# List the data types of each column\n",
    "neighborhoods.dtypes"
   ]
  },
  {
   "cell_type": "code",
   "execution_count": 103,
   "id": "797ff0cd",
   "metadata": {},
   "outputs": [
    {
     "data": {
      "text/plain": [
       "id                          int64\n",
       "name                       object\n",
       "host_id                     int64\n",
       "host_identity_verified     object\n",
       "host_name                  object\n",
       "latitude                  float64\n",
       "longitude                 float64\n",
       "neighborhood_id           float64\n",
       "instant_bookable           object\n",
       "cancellation_policy        object\n",
       "room_type                  object\n",
       "price                      object\n",
       "service_fee                object\n",
       "minimum_nights            float64\n",
       "number_of_reviews         float64\n",
       "last_review                object\n",
       "reviews_per_month         float64\n",
       "availability_365          float64\n",
       "house_rules                object\n",
       "license                    object\n",
       "dtype: object"
      ]
     },
     "execution_count": 103,
     "metadata": {},
     "output_type": "execute_result"
    }
   ],
   "source": [
    "properties.dtypes"
   ]
  },
  {
   "cell_type": "markdown",
   "id": "f9ef565e",
   "metadata": {},
   "source": [
    "### 3.2 Sense Check"
   ]
  },
  {
   "cell_type": "markdown",
   "id": "de006a78",
   "metadata": {},
   "source": [
    "<div style=\"background-color: #f8d7da; padding: 10px;\">\n",
    "    \n",
    "* __host_identity_verified__ is in essence a boolean but it is not in a true/false format. This is fine as an object wont cause major impact.\n",
    "* __instant_bookable__ Should be a boolean but due to nan's I understand why its a object. PASS\n",
    "* __price & service_fee__ Need to be changed to int or float. \n",
    "* Every other column is fine. "
   ]
  },
  {
   "cell_type": "markdown",
   "id": "atmospheric-firmware",
   "metadata": {},
   "source": [
    "### 3.3 Review"
   ]
  },
  {
   "cell_type": "markdown",
   "id": "dense-garbage",
   "metadata": {},
   "source": [
    "<hr/>"
   ]
  },
  {
   "cell_type": "markdown",
   "id": "opened-blair",
   "metadata": {},
   "source": [
    "### 4.1 Further Inspect the Dataset"
   ]
  },
  {
   "cell_type": "code",
   "execution_count": 104,
   "id": "minimal-recovery",
   "metadata": {},
   "outputs": [
    {
     "data": {
      "text/plain": [
       "id                          int64\n",
       "name                       object\n",
       "host_id                     int64\n",
       "host_identity_verified     object\n",
       "host_name                  object\n",
       "latitude                  float64\n",
       "longitude                 float64\n",
       "neighborhood_id           float64\n",
       "instant_bookable           object\n",
       "cancellation_policy        object\n",
       "room_type                  object\n",
       "price                      object\n",
       "service_fee                object\n",
       "minimum_nights            float64\n",
       "number_of_reviews         float64\n",
       "last_review                object\n",
       "reviews_per_month         float64\n",
       "availability_365          float64\n",
       "house_rules                object\n",
       "license                    object\n",
       "dtype: object"
      ]
     },
     "execution_count": 104,
     "metadata": {},
     "output_type": "execute_result"
    }
   ],
   "source": [
    "\n",
    "properties.dtypes"
   ]
  },
  {
   "cell_type": "code",
   "execution_count": 105,
   "id": "592e00f8",
   "metadata": {},
   "outputs": [
    {
     "data": {
      "text/plain": [
       "<bound method NDFrame.describe of         id neighborhood_group            neighborhood        country\n",
       "0        1           Brooklyn              Kensington  United States\n",
       "1        2          Manhattan                 Midtown  United States\n",
       "2        3          Manhattan                  Harlem  United States\n",
       "3        4           Brooklyn            Clinton Hill  United States\n",
       "4        5          Manhattan             East Harlem  United States\n",
       "..     ...                ...                     ...            ...\n",
       "218  33700             Queens            Breezy Point  United States\n",
       "219  34163      Staten Island             Willowbrook  United States\n",
       "220  51124             Queens               Glen Oaks  United States\n",
       "221  52049           Brooklyn         Gerritsen Beach  United States\n",
       "222  53138      Staten Island  Chelsea, Staten Island  United States\n",
       "\n",
       "[223 rows x 4 columns]>"
      ]
     },
     "execution_count": 105,
     "metadata": {},
     "output_type": "execute_result"
    }
   ],
   "source": [
    "neighborhoods.describe"
   ]
  },
  {
   "cell_type": "code",
   "execution_count": 106,
   "id": "32999eca",
   "metadata": {},
   "outputs": [
    {
     "data": {
      "text/plain": [
       "id                     int64\n",
       "neighborhood_group    object\n",
       "neighborhood          object\n",
       "country               object\n",
       "dtype: object"
      ]
     },
     "execution_count": 106,
     "metadata": {},
     "output_type": "execute_result"
    }
   ],
   "source": [
    "neighborhoods.dtypes"
   ]
  },
  {
   "cell_type": "code",
   "execution_count": 107,
   "id": "a526cf55",
   "metadata": {},
   "outputs": [
    {
     "name": "stdout",
     "output_type": "stream",
     "text": [
      "Unique values and their counts:\n",
      " Home away from home                                  33\n",
      "Hillside Hotel                                       30\n",
      "Water View King Bed Hotel Room                       30\n",
      "Brooklyn Apartment                                   27\n",
      "New york Multi-unit building                         27\n",
      "                                                     ..\n",
      "Modern & trendy serenity—great High Line location     1\n",
      "Quiet, light-filled, Soho apartment                   1\n",
      "Sunny and cozy room 10 minutes from Times Sq.61F3     1\n",
      "1 bedroom apartment across the Central Park           1\n",
      "Parisian Style Apartment in Heart of Brooklyn         1\n",
      "Name: name, Length: 61281, dtype: int64\n"
     ]
    }
   ],
   "source": [
    "#Nominal\n",
    "check_1 = properties['name'].value_counts()\n",
    "print(\"Unique values and their counts:\\n\", check_1)"
   ]
  },
  {
   "cell_type": "code",
   "execution_count": 108,
   "id": "intended-scene",
   "metadata": {},
   "outputs": [
    {
     "name": "stdout",
     "output_type": "stream",
     "text": [
      "Unique values and their counts:\n",
      " unconfirmed    50944\n",
      "verified       50825\n",
      "Name: host_identity_verified, dtype: int64\n"
     ]
    }
   ],
   "source": [
    "#Binary\n",
    "check_2 = properties['host_identity_verified'].value_counts()\n",
    "print(\"Unique values and their counts:\\n\", check_2)"
   ]
  },
  {
   "cell_type": "markdown",
   "id": "5c078644",
   "metadata": {},
   "source": [
    "<div style=\"background-color: #f8d7da; padding: 10px; color: #721c24; border: 1px solid #f5c6cb;\">\n",
    "    <strong>Alert:</strong> There is an issue that requires attention! Only half of your hosts have been verified. \n",
    "</div>"
   ]
  },
  {
   "cell_type": "code",
   "execution_count": 109,
   "id": "mysterious-front",
   "metadata": {},
   "outputs": [
    {
     "data": {
      "text/plain": [
       "Entire home/apt    53429\n",
       "Private room       46306\n",
       "Shared room         2208\n",
       "Hotel room           115\n",
       "Name: room_type, dtype: int64"
      ]
     },
     "execution_count": 109,
     "metadata": {},
     "output_type": "execute_result"
    }
   ],
   "source": [
    "#Nominal\n",
    "check3 = properties['room_type'].value_counts()\n",
    "check3"
   ]
  },
  {
   "cell_type": "code",
   "execution_count": 110,
   "id": "discrete-nepal",
   "metadata": {},
   "outputs": [
    {
     "data": {
      "text/plain": [
       "6/23/2019    2436\n",
       "6/30/2019    2221\n",
       "7/1/2019     2204\n",
       "6/24/2019    1506\n",
       "7/7/2019     1147\n",
       "             ... \n",
       "7/21/2020       1\n",
       "7/20/2020       1\n",
       "9/15/2014       1\n",
       "9/11/2013       1\n",
       "9/30/2014       1\n",
       "Name: last_review, Length: 2477, dtype: int64"
      ]
     },
     "execution_count": 110,
     "metadata": {},
     "output_type": "execute_result"
    }
   ],
   "source": [
    "#Ordinal\n",
    "check4 = properties['last_review'].value_counts()\n",
    "check4"
   ]
  },
  {
   "cell_type": "code",
   "execution_count": 111,
   "id": "a6507636",
   "metadata": {},
   "outputs": [
    {
     "name": "stdout",
     "output_type": "stream",
     "text": [
      "Unique values and their counts:\n",
      "  1.0      25290\n",
      " 2.0      23495\n",
      " 3.0      16038\n",
      " 30.0     11554\n",
      " 4.0       6606\n",
      "          ...  \n",
      "-3.0          1\n",
      " 273.0        1\n",
      " 175.0        1\n",
      " 98.0         1\n",
      " 825.0        1\n",
      "Name: minimum_nights, Length: 153, dtype: int64\n"
     ]
    }
   ],
   "source": [
    "#Nominal\n",
    "check_5 = properties['minimum_nights'].value_counts()\n",
    "print(\"Unique values and their counts:\\n\", check_5)"
   ]
  },
  {
   "cell_type": "markdown",
   "id": "f9ee4d64",
   "metadata": {},
   "source": [
    "#### 4.1.b Fixing any Data Issues Necessary"
   ]
  },
  {
   "cell_type": "markdown",
   "id": "dfd33e02",
   "metadata": {},
   "source": [
    "<div style=\"background-color:#f8d7da; border:1px solid; padding:5px; margin:5px; font-weight:bold\"><font color=\"crimson\">\n",
    "<font color=\"crimson\"> The data types for the following columns will be changed :\n",
    "   \n",
    "    \n",
    "__Price and Service Fee__\n",
    "    \n",
    "#properties['price'] = properties['price'].str.replace('[^\\d.]', '', regex=True)\n",
    "#properties['price'] = properties['price'].replace('', '0')\n",
    "#properties['price'] = properties['price'].astype(float)\n",
    "#properties['price'] = properties['price'].fillna(0).astype(int)\n",
    "print(properties['price']) (Potential Code)\n",
    "    </font></div>"
   ]
  },
  {
   "cell_type": "code",
   "execution_count": 112,
   "id": "b10e00aa",
   "metadata": {},
   "outputs": [],
   "source": [
    "properties['price'] = properties['price'].str.replace('$','',regex=False)"
   ]
  },
  {
   "cell_type": "code",
   "execution_count": 113,
   "id": "61a01cdc",
   "metadata": {},
   "outputs": [],
   "source": [
    "properties['price'] = properties['price'].str.replace(',','',regex=False)"
   ]
  },
  {
   "cell_type": "code",
   "execution_count": 114,
   "id": "25d0d1d2",
   "metadata": {},
   "outputs": [],
   "source": [
    "properties['service_fee'] = properties['service_fee'].str.replace('$','',regex=False)"
   ]
  },
  {
   "cell_type": "code",
   "execution_count": 115,
   "id": "6ebc9af5",
   "metadata": {},
   "outputs": [],
   "source": [
    "properties['service_fee'] = properties['service_fee'].str.replace(',','',regex=False)"
   ]
  },
  {
   "cell_type": "code",
   "execution_count": 116,
   "id": "7661bc1a",
   "metadata": {},
   "outputs": [],
   "source": [
    "properties['price'] = properties['price'].str.strip()"
   ]
  },
  {
   "cell_type": "code",
   "execution_count": 117,
   "id": "268f1fd0",
   "metadata": {},
   "outputs": [],
   "source": [
    "properties['service_fee'] = properties['service_fee'].str.strip()"
   ]
  },
  {
   "cell_type": "code",
   "execution_count": 118,
   "id": "f5f25711",
   "metadata": {
    "scrolled": true
   },
   "outputs": [
    {
     "data": {
      "text/html": [
       "<div>\n",
       "<style scoped>\n",
       "    .dataframe tbody tr th:only-of-type {\n",
       "        vertical-align: middle;\n",
       "    }\n",
       "\n",
       "    .dataframe tbody tr th {\n",
       "        vertical-align: top;\n",
       "    }\n",
       "\n",
       "    .dataframe thead th {\n",
       "        text-align: right;\n",
       "    }\n",
       "</style>\n",
       "<table border=\"1\" class=\"dataframe\">\n",
       "  <thead>\n",
       "    <tr style=\"text-align: right;\">\n",
       "      <th></th>\n",
       "      <th>id</th>\n",
       "      <th>name</th>\n",
       "      <th>host_id</th>\n",
       "      <th>host_identity_verified</th>\n",
       "      <th>host_name</th>\n",
       "      <th>latitude</th>\n",
       "      <th>longitude</th>\n",
       "      <th>neighborhood_id</th>\n",
       "      <th>instant_bookable</th>\n",
       "      <th>cancellation_policy</th>\n",
       "      <th>room_type</th>\n",
       "      <th>price</th>\n",
       "      <th>service_fee</th>\n",
       "      <th>minimum_nights</th>\n",
       "      <th>number_of_reviews</th>\n",
       "      <th>last_review</th>\n",
       "      <th>reviews_per_month</th>\n",
       "      <th>availability_365</th>\n",
       "      <th>house_rules</th>\n",
       "      <th>license</th>\n",
       "    </tr>\n",
       "  </thead>\n",
       "  <tbody>\n",
       "    <tr>\n",
       "      <th>0</th>\n",
       "      <td>1001254</td>\n",
       "      <td>Clean &amp; quiet apt home by the park</td>\n",
       "      <td>80014485718</td>\n",
       "      <td>unconfirmed</td>\n",
       "      <td>Madaline</td>\n",
       "      <td>40.64749</td>\n",
       "      <td>-73.97237</td>\n",
       "      <td>1.0</td>\n",
       "      <td>False</td>\n",
       "      <td>strict</td>\n",
       "      <td>Private room</td>\n",
       "      <td>966</td>\n",
       "      <td>193</td>\n",
       "      <td>10.0</td>\n",
       "      <td>9.0</td>\n",
       "      <td>10/19/2021</td>\n",
       "      <td>0.21</td>\n",
       "      <td>286.0</td>\n",
       "      <td>Clean up and treat the home the way you'd like...</td>\n",
       "      <td>NaN</td>\n",
       "    </tr>\n",
       "    <tr>\n",
       "      <th>1</th>\n",
       "      <td>1002102</td>\n",
       "      <td>Skylit Midtown Castle</td>\n",
       "      <td>52335172823</td>\n",
       "      <td>verified</td>\n",
       "      <td>Jenna</td>\n",
       "      <td>40.75362</td>\n",
       "      <td>-73.98377</td>\n",
       "      <td>2.0</td>\n",
       "      <td>False</td>\n",
       "      <td>moderate</td>\n",
       "      <td>Entire home/apt</td>\n",
       "      <td>142</td>\n",
       "      <td>28</td>\n",
       "      <td>30.0</td>\n",
       "      <td>45.0</td>\n",
       "      <td>5/21/2022</td>\n",
       "      <td>0.38</td>\n",
       "      <td>228.0</td>\n",
       "      <td>Pet friendly but please confirm with me if the...</td>\n",
       "      <td>NaN</td>\n",
       "    </tr>\n",
       "    <tr>\n",
       "      <th>2</th>\n",
       "      <td>1002403</td>\n",
       "      <td>THE VILLAGE OF HARLEM....NEW YORK !</td>\n",
       "      <td>78829239556</td>\n",
       "      <td>NaN</td>\n",
       "      <td>Elise</td>\n",
       "      <td>40.80902</td>\n",
       "      <td>-73.94190</td>\n",
       "      <td>3.0</td>\n",
       "      <td>True</td>\n",
       "      <td>flexible</td>\n",
       "      <td>Private room</td>\n",
       "      <td>620</td>\n",
       "      <td>124</td>\n",
       "      <td>3.0</td>\n",
       "      <td>0.0</td>\n",
       "      <td>NaN</td>\n",
       "      <td>NaN</td>\n",
       "      <td>352.0</td>\n",
       "      <td>I encourage you to use my kitchen, cooking and...</td>\n",
       "      <td>NaN</td>\n",
       "    </tr>\n",
       "    <tr>\n",
       "      <th>3</th>\n",
       "      <td>1002755</td>\n",
       "      <td>NaN</td>\n",
       "      <td>85098326012</td>\n",
       "      <td>unconfirmed</td>\n",
       "      <td>Garry</td>\n",
       "      <td>40.68514</td>\n",
       "      <td>-73.95976</td>\n",
       "      <td>4.0</td>\n",
       "      <td>True</td>\n",
       "      <td>moderate</td>\n",
       "      <td>Entire home/apt</td>\n",
       "      <td>368</td>\n",
       "      <td>74</td>\n",
       "      <td>30.0</td>\n",
       "      <td>270.0</td>\n",
       "      <td>7/5/2019</td>\n",
       "      <td>4.64</td>\n",
       "      <td>322.0</td>\n",
       "      <td>NaN</td>\n",
       "      <td>NaN</td>\n",
       "    </tr>\n",
       "    <tr>\n",
       "      <th>4</th>\n",
       "      <td>1003689</td>\n",
       "      <td>Entire Apt: Spacious Studio/Loft by central park</td>\n",
       "      <td>92037596077</td>\n",
       "      <td>verified</td>\n",
       "      <td>Lyndon</td>\n",
       "      <td>40.79851</td>\n",
       "      <td>-73.94399</td>\n",
       "      <td>5.0</td>\n",
       "      <td>False</td>\n",
       "      <td>moderate</td>\n",
       "      <td>Entire home/apt</td>\n",
       "      <td>204</td>\n",
       "      <td>41</td>\n",
       "      <td>10.0</td>\n",
       "      <td>9.0</td>\n",
       "      <td>11/19/2018</td>\n",
       "      <td>0.10</td>\n",
       "      <td>289.0</td>\n",
       "      <td>Please no smoking in the house, porch or on th...</td>\n",
       "      <td>NaN</td>\n",
       "    </tr>\n",
       "  </tbody>\n",
       "</table>\n",
       "</div>"
      ],
      "text/plain": [
       "        id                                              name      host_id  \\\n",
       "0  1001254                Clean & quiet apt home by the park  80014485718   \n",
       "1  1002102                             Skylit Midtown Castle  52335172823   \n",
       "2  1002403               THE VILLAGE OF HARLEM....NEW YORK !  78829239556   \n",
       "3  1002755                                               NaN  85098326012   \n",
       "4  1003689  Entire Apt: Spacious Studio/Loft by central park  92037596077   \n",
       "\n",
       "  host_identity_verified host_name  latitude  longitude  neighborhood_id  \\\n",
       "0            unconfirmed  Madaline  40.64749  -73.97237              1.0   \n",
       "1               verified     Jenna  40.75362  -73.98377              2.0   \n",
       "2                    NaN     Elise  40.80902  -73.94190              3.0   \n",
       "3            unconfirmed     Garry  40.68514  -73.95976              4.0   \n",
       "4               verified    Lyndon  40.79851  -73.94399              5.0   \n",
       "\n",
       "  instant_bookable cancellation_policy        room_type price service_fee  \\\n",
       "0            False              strict     Private room   966         193   \n",
       "1            False            moderate  Entire home/apt   142          28   \n",
       "2             True            flexible     Private room   620         124   \n",
       "3             True            moderate  Entire home/apt   368          74   \n",
       "4            False            moderate  Entire home/apt   204          41   \n",
       "\n",
       "   minimum_nights  number_of_reviews last_review  reviews_per_month  \\\n",
       "0            10.0                9.0  10/19/2021               0.21   \n",
       "1            30.0               45.0   5/21/2022               0.38   \n",
       "2             3.0                0.0         NaN                NaN   \n",
       "3            30.0              270.0    7/5/2019               4.64   \n",
       "4            10.0                9.0  11/19/2018               0.10   \n",
       "\n",
       "   availability_365                                        house_rules license  \n",
       "0             286.0  Clean up and treat the home the way you'd like...     NaN  \n",
       "1             228.0  Pet friendly but please confirm with me if the...     NaN  \n",
       "2             352.0  I encourage you to use my kitchen, cooking and...     NaN  \n",
       "3             322.0                                                NaN     NaN  \n",
       "4             289.0  Please no smoking in the house, porch or on th...     NaN  "
      ]
     },
     "execution_count": 118,
     "metadata": {},
     "output_type": "execute_result"
    }
   ],
   "source": [
    "properties.head(5)"
   ]
  },
  {
   "cell_type": "code",
   "execution_count": 119,
   "id": "2f503b76",
   "metadata": {},
   "outputs": [
    {
     "data": {
      "text/plain": [
       "id                          int64\n",
       "name                       object\n",
       "host_id                     int64\n",
       "host_identity_verified     object\n",
       "host_name                  object\n",
       "latitude                  float64\n",
       "longitude                 float64\n",
       "neighborhood_id           float64\n",
       "instant_bookable           object\n",
       "cancellation_policy        object\n",
       "room_type                  object\n",
       "price                      object\n",
       "service_fee                object\n",
       "minimum_nights            float64\n",
       "number_of_reviews         float64\n",
       "last_review                object\n",
       "reviews_per_month         float64\n",
       "availability_365          float64\n",
       "house_rules                object\n",
       "license                    object\n",
       "dtype: object"
      ]
     },
     "execution_count": 119,
     "metadata": {},
     "output_type": "execute_result"
    }
   ],
   "source": [
    "properties.dtypes"
   ]
  },
  {
   "cell_type": "code",
   "execution_count": 120,
   "id": "0682cff9",
   "metadata": {},
   "outputs": [],
   "source": [
    "properties['service_fee'] = properties['service_fee'].astype('float')"
   ]
  },
  {
   "cell_type": "code",
   "execution_count": 121,
   "id": "270a9cb1",
   "metadata": {},
   "outputs": [
    {
     "data": {
      "text/html": [
       "<div>\n",
       "<style scoped>\n",
       "    .dataframe tbody tr th:only-of-type {\n",
       "        vertical-align: middle;\n",
       "    }\n",
       "\n",
       "    .dataframe tbody tr th {\n",
       "        vertical-align: top;\n",
       "    }\n",
       "\n",
       "    .dataframe thead th {\n",
       "        text-align: right;\n",
       "    }\n",
       "</style>\n",
       "<table border=\"1\" class=\"dataframe\">\n",
       "  <thead>\n",
       "    <tr style=\"text-align: right;\">\n",
       "      <th></th>\n",
       "      <th>id</th>\n",
       "      <th>name</th>\n",
       "      <th>host_id</th>\n",
       "      <th>host_identity_verified</th>\n",
       "      <th>host_name</th>\n",
       "      <th>latitude</th>\n",
       "      <th>longitude</th>\n",
       "      <th>neighborhood_id</th>\n",
       "      <th>instant_bookable</th>\n",
       "      <th>cancellation_policy</th>\n",
       "      <th>room_type</th>\n",
       "      <th>price</th>\n",
       "      <th>service_fee</th>\n",
       "      <th>minimum_nights</th>\n",
       "      <th>number_of_reviews</th>\n",
       "      <th>last_review</th>\n",
       "      <th>reviews_per_month</th>\n",
       "      <th>availability_365</th>\n",
       "      <th>house_rules</th>\n",
       "      <th>license</th>\n",
       "    </tr>\n",
       "  </thead>\n",
       "  <tbody>\n",
       "    <tr>\n",
       "      <th>0</th>\n",
       "      <td>1001254</td>\n",
       "      <td>Clean &amp; quiet apt home by the park</td>\n",
       "      <td>80014485718</td>\n",
       "      <td>unconfirmed</td>\n",
       "      <td>Madaline</td>\n",
       "      <td>40.64749</td>\n",
       "      <td>-73.97237</td>\n",
       "      <td>1.0</td>\n",
       "      <td>False</td>\n",
       "      <td>strict</td>\n",
       "      <td>Private room</td>\n",
       "      <td>966</td>\n",
       "      <td>193.0</td>\n",
       "      <td>10.0</td>\n",
       "      <td>9.0</td>\n",
       "      <td>10/19/2021</td>\n",
       "      <td>0.21</td>\n",
       "      <td>286.0</td>\n",
       "      <td>Clean up and treat the home the way you'd like...</td>\n",
       "      <td>NaN</td>\n",
       "    </tr>\n",
       "    <tr>\n",
       "      <th>1</th>\n",
       "      <td>1002102</td>\n",
       "      <td>Skylit Midtown Castle</td>\n",
       "      <td>52335172823</td>\n",
       "      <td>verified</td>\n",
       "      <td>Jenna</td>\n",
       "      <td>40.75362</td>\n",
       "      <td>-73.98377</td>\n",
       "      <td>2.0</td>\n",
       "      <td>False</td>\n",
       "      <td>moderate</td>\n",
       "      <td>Entire home/apt</td>\n",
       "      <td>142</td>\n",
       "      <td>28.0</td>\n",
       "      <td>30.0</td>\n",
       "      <td>45.0</td>\n",
       "      <td>5/21/2022</td>\n",
       "      <td>0.38</td>\n",
       "      <td>228.0</td>\n",
       "      <td>Pet friendly but please confirm with me if the...</td>\n",
       "      <td>NaN</td>\n",
       "    </tr>\n",
       "  </tbody>\n",
       "</table>\n",
       "</div>"
      ],
      "text/plain": [
       "        id                                name      host_id  \\\n",
       "0  1001254  Clean & quiet apt home by the park  80014485718   \n",
       "1  1002102               Skylit Midtown Castle  52335172823   \n",
       "\n",
       "  host_identity_verified host_name  latitude  longitude  neighborhood_id  \\\n",
       "0            unconfirmed  Madaline  40.64749  -73.97237              1.0   \n",
       "1               verified     Jenna  40.75362  -73.98377              2.0   \n",
       "\n",
       "  instant_bookable cancellation_policy        room_type price  service_fee  \\\n",
       "0            False              strict     Private room   966        193.0   \n",
       "1            False            moderate  Entire home/apt   142         28.0   \n",
       "\n",
       "   minimum_nights  number_of_reviews last_review  reviews_per_month  \\\n",
       "0            10.0                9.0  10/19/2021               0.21   \n",
       "1            30.0               45.0   5/21/2022               0.38   \n",
       "\n",
       "   availability_365                                        house_rules license  \n",
       "0             286.0  Clean up and treat the home the way you'd like...     NaN  \n",
       "1             228.0  Pet friendly but please confirm with me if the...     NaN  "
      ]
     },
     "execution_count": 121,
     "metadata": {},
     "output_type": "execute_result"
    }
   ],
   "source": [
    "properties.head(2)"
   ]
  },
  {
   "cell_type": "code",
   "execution_count": 122,
   "id": "d0a4ccf8",
   "metadata": {},
   "outputs": [],
   "source": [
    "properties['price'] = properties['price'].astype('float')"
   ]
  },
  {
   "cell_type": "markdown",
   "id": "37a9b620",
   "metadata": {},
   "source": [
    "<div style=\"background-color: #d4edda; padding: 10px;\">\n",
    "Converted columns price and service_fee to floats.\n",
    "</div>"
   ]
  },
  {
   "cell_type": "markdown",
   "id": "gross-router",
   "metadata": {},
   "source": [
    "#### 4.1.c Descriptive Stats for Numeric Type Columns\n",
    "\n"
   ]
  },
  {
   "cell_type": "code",
   "execution_count": 123,
   "id": "opposite-services",
   "metadata": {},
   "outputs": [
    {
     "name": "stdout",
     "output_type": "stream",
     "text": [
      "                 id\n",
      "count    223.000000\n",
      "mean    6392.905830\n",
      "std     9782.183912\n",
      "min        1.000000\n",
      "25%      255.000000\n",
      "50%     1566.000000\n",
      "75%     9065.500000\n",
      "max    53138.000000\n"
     ]
    }
   ],
   "source": [
    "# Getting the descriptive stats for the numeric columns\n",
    "numeric_columns = neighborhoods.select_dtypes(include=['int64', 'float64'])\n",
    "numeric_stats = numeric_columns.describe()\n",
    "print(numeric_stats)"
   ]
  },
  {
   "cell_type": "markdown",
   "id": "de980ea2",
   "metadata": {},
   "source": [
    "Neighborhood id is discrete because its a unique identifier. "
   ]
  },
  {
   "cell_type": "code",
   "execution_count": 124,
   "id": "89aa42a6",
   "metadata": {},
   "outputs": [
    {
     "data": {
      "text/plain": [
       "count    101811.000000\n",
       "mean        625.355580\n",
       "std         331.672649\n",
       "min          50.000000\n",
       "25%         340.000000\n",
       "50%         625.000000\n",
       "75%         913.000000\n",
       "max        1200.000000\n",
       "Name: price, dtype: float64"
      ]
     },
     "execution_count": 124,
     "metadata": {},
     "output_type": "execute_result"
    }
   ],
   "source": [
    "#continous\n",
    "properties['price'].describe()"
   ]
  },
  {
   "cell_type": "code",
   "execution_count": 125,
   "id": "1c4e8f52",
   "metadata": {},
   "outputs": [
    {
     "data": {
      "text/plain": [
       "id                          int64\n",
       "name                       object\n",
       "host_id                     int64\n",
       "host_identity_verified     object\n",
       "host_name                  object\n",
       "latitude                  float64\n",
       "longitude                 float64\n",
       "neighborhood_id           float64\n",
       "instant_bookable           object\n",
       "cancellation_policy        object\n",
       "room_type                  object\n",
       "price                     float64\n",
       "service_fee               float64\n",
       "minimum_nights            float64\n",
       "number_of_reviews         float64\n",
       "last_review                object\n",
       "reviews_per_month         float64\n",
       "availability_365          float64\n",
       "house_rules                object\n",
       "license                    object\n",
       "dtype: object"
      ]
     },
     "execution_count": 125,
     "metadata": {},
     "output_type": "execute_result"
    }
   ],
   "source": [
    "properties.dtypes"
   ]
  },
  {
   "cell_type": "code",
   "execution_count": 126,
   "id": "8bae02c2",
   "metadata": {},
   "outputs": [
    {
     "data": {
      "text/plain": [
       "count    101610.000000\n",
       "mean        141.043992\n",
       "std         135.429156\n",
       "min         -10.000000\n",
       "25%           3.000000\n",
       "50%          96.000000\n",
       "75%         268.000000\n",
       "max        3677.000000\n",
       "Name: availability_365, dtype: float64"
      ]
     },
     "execution_count": 126,
     "metadata": {},
     "output_type": "execute_result"
    }
   ],
   "source": [
    "#discrete\n",
    "properties['availability_365'].describe()"
   ]
  },
  {
   "cell_type": "code",
   "execution_count": 127,
   "id": "ad7b2e4c",
   "metadata": {},
   "outputs": [
    {
     "data": {
      "text/html": [
       "<div>\n",
       "<style scoped>\n",
       "    .dataframe tbody tr th:only-of-type {\n",
       "        vertical-align: middle;\n",
       "    }\n",
       "\n",
       "    .dataframe tbody tr th {\n",
       "        vertical-align: top;\n",
       "    }\n",
       "\n",
       "    .dataframe thead th {\n",
       "        text-align: right;\n",
       "    }\n",
       "</style>\n",
       "<table border=\"1\" class=\"dataframe\">\n",
       "  <thead>\n",
       "    <tr style=\"text-align: right;\">\n",
       "      <th></th>\n",
       "      <th>id</th>\n",
       "      <th>name</th>\n",
       "      <th>host_id</th>\n",
       "      <th>host_identity_verified</th>\n",
       "      <th>host_name</th>\n",
       "      <th>latitude</th>\n",
       "      <th>longitude</th>\n",
       "      <th>neighborhood_id</th>\n",
       "      <th>instant_bookable</th>\n",
       "      <th>cancellation_policy</th>\n",
       "      <th>room_type</th>\n",
       "      <th>price</th>\n",
       "      <th>service_fee</th>\n",
       "      <th>minimum_nights</th>\n",
       "      <th>number_of_reviews</th>\n",
       "      <th>last_review</th>\n",
       "      <th>reviews_per_month</th>\n",
       "      <th>availability_365</th>\n",
       "      <th>house_rules</th>\n",
       "      <th>license</th>\n",
       "    </tr>\n",
       "  </thead>\n",
       "  <tbody>\n",
       "    <tr>\n",
       "      <th>0</th>\n",
       "      <td>1001254</td>\n",
       "      <td>Clean &amp; quiet apt home by the park</td>\n",
       "      <td>80014485718</td>\n",
       "      <td>unconfirmed</td>\n",
       "      <td>Madaline</td>\n",
       "      <td>40.64749</td>\n",
       "      <td>-73.97237</td>\n",
       "      <td>1.0</td>\n",
       "      <td>False</td>\n",
       "      <td>strict</td>\n",
       "      <td>Private room</td>\n",
       "      <td>966.0</td>\n",
       "      <td>193.0</td>\n",
       "      <td>10.0</td>\n",
       "      <td>9.0</td>\n",
       "      <td>10/19/2021</td>\n",
       "      <td>0.21</td>\n",
       "      <td>286.0</td>\n",
       "      <td>Clean up and treat the home the way you'd like...</td>\n",
       "      <td>NaN</td>\n",
       "    </tr>\n",
       "    <tr>\n",
       "      <th>1</th>\n",
       "      <td>1002102</td>\n",
       "      <td>Skylit Midtown Castle</td>\n",
       "      <td>52335172823</td>\n",
       "      <td>verified</td>\n",
       "      <td>Jenna</td>\n",
       "      <td>40.75362</td>\n",
       "      <td>-73.98377</td>\n",
       "      <td>2.0</td>\n",
       "      <td>False</td>\n",
       "      <td>moderate</td>\n",
       "      <td>Entire home/apt</td>\n",
       "      <td>142.0</td>\n",
       "      <td>28.0</td>\n",
       "      <td>30.0</td>\n",
       "      <td>45.0</td>\n",
       "      <td>5/21/2022</td>\n",
       "      <td>0.38</td>\n",
       "      <td>228.0</td>\n",
       "      <td>Pet friendly but please confirm with me if the...</td>\n",
       "      <td>NaN</td>\n",
       "    </tr>\n",
       "    <tr>\n",
       "      <th>2</th>\n",
       "      <td>1002403</td>\n",
       "      <td>THE VILLAGE OF HARLEM....NEW YORK !</td>\n",
       "      <td>78829239556</td>\n",
       "      <td>NaN</td>\n",
       "      <td>Elise</td>\n",
       "      <td>40.80902</td>\n",
       "      <td>-73.94190</td>\n",
       "      <td>3.0</td>\n",
       "      <td>True</td>\n",
       "      <td>flexible</td>\n",
       "      <td>Private room</td>\n",
       "      <td>620.0</td>\n",
       "      <td>124.0</td>\n",
       "      <td>3.0</td>\n",
       "      <td>0.0</td>\n",
       "      <td>NaN</td>\n",
       "      <td>NaN</td>\n",
       "      <td>352.0</td>\n",
       "      <td>I encourage you to use my kitchen, cooking and...</td>\n",
       "      <td>NaN</td>\n",
       "    </tr>\n",
       "    <tr>\n",
       "      <th>3</th>\n",
       "      <td>1002755</td>\n",
       "      <td>NaN</td>\n",
       "      <td>85098326012</td>\n",
       "      <td>unconfirmed</td>\n",
       "      <td>Garry</td>\n",
       "      <td>40.68514</td>\n",
       "      <td>-73.95976</td>\n",
       "      <td>4.0</td>\n",
       "      <td>True</td>\n",
       "      <td>moderate</td>\n",
       "      <td>Entire home/apt</td>\n",
       "      <td>368.0</td>\n",
       "      <td>74.0</td>\n",
       "      <td>30.0</td>\n",
       "      <td>270.0</td>\n",
       "      <td>7/5/2019</td>\n",
       "      <td>4.64</td>\n",
       "      <td>322.0</td>\n",
       "      <td>NaN</td>\n",
       "      <td>NaN</td>\n",
       "    </tr>\n",
       "    <tr>\n",
       "      <th>4</th>\n",
       "      <td>1003689</td>\n",
       "      <td>Entire Apt: Spacious Studio/Loft by central park</td>\n",
       "      <td>92037596077</td>\n",
       "      <td>verified</td>\n",
       "      <td>Lyndon</td>\n",
       "      <td>40.79851</td>\n",
       "      <td>-73.94399</td>\n",
       "      <td>5.0</td>\n",
       "      <td>False</td>\n",
       "      <td>moderate</td>\n",
       "      <td>Entire home/apt</td>\n",
       "      <td>204.0</td>\n",
       "      <td>41.0</td>\n",
       "      <td>10.0</td>\n",
       "      <td>9.0</td>\n",
       "      <td>11/19/2018</td>\n",
       "      <td>0.10</td>\n",
       "      <td>289.0</td>\n",
       "      <td>Please no smoking in the house, porch or on th...</td>\n",
       "      <td>NaN</td>\n",
       "    </tr>\n",
       "  </tbody>\n",
       "</table>\n",
       "</div>"
      ],
      "text/plain": [
       "        id                                              name      host_id  \\\n",
       "0  1001254                Clean & quiet apt home by the park  80014485718   \n",
       "1  1002102                             Skylit Midtown Castle  52335172823   \n",
       "2  1002403               THE VILLAGE OF HARLEM....NEW YORK !  78829239556   \n",
       "3  1002755                                               NaN  85098326012   \n",
       "4  1003689  Entire Apt: Spacious Studio/Loft by central park  92037596077   \n",
       "\n",
       "  host_identity_verified host_name  latitude  longitude  neighborhood_id  \\\n",
       "0            unconfirmed  Madaline  40.64749  -73.97237              1.0   \n",
       "1               verified     Jenna  40.75362  -73.98377              2.0   \n",
       "2                    NaN     Elise  40.80902  -73.94190              3.0   \n",
       "3            unconfirmed     Garry  40.68514  -73.95976              4.0   \n",
       "4               verified    Lyndon  40.79851  -73.94399              5.0   \n",
       "\n",
       "  instant_bookable cancellation_policy        room_type  price  service_fee  \\\n",
       "0            False              strict     Private room  966.0        193.0   \n",
       "1            False            moderate  Entire home/apt  142.0         28.0   \n",
       "2             True            flexible     Private room  620.0        124.0   \n",
       "3             True            moderate  Entire home/apt  368.0         74.0   \n",
       "4            False            moderate  Entire home/apt  204.0         41.0   \n",
       "\n",
       "   minimum_nights  number_of_reviews last_review  reviews_per_month  \\\n",
       "0            10.0                9.0  10/19/2021               0.21   \n",
       "1            30.0               45.0   5/21/2022               0.38   \n",
       "2             3.0                0.0         NaN                NaN   \n",
       "3            30.0              270.0    7/5/2019               4.64   \n",
       "4            10.0                9.0  11/19/2018               0.10   \n",
       "\n",
       "   availability_365                                        house_rules license  \n",
       "0             286.0  Clean up and treat the home the way you'd like...     NaN  \n",
       "1             228.0  Pet friendly but please confirm with me if the...     NaN  \n",
       "2             352.0  I encourage you to use my kitchen, cooking and...     NaN  \n",
       "3             322.0                                                NaN     NaN  \n",
       "4             289.0  Please no smoking in the house, porch or on th...     NaN  "
      ]
     },
     "execution_count": 127,
     "metadata": {},
     "output_type": "execute_result"
    }
   ],
   "source": [
    "properties.head()"
   ]
  },
  {
   "cell_type": "code",
   "execution_count": 128,
   "id": "e447228d",
   "metadata": {},
   "outputs": [
    {
     "data": {
      "text/html": [
       "<div>\n",
       "<style scoped>\n",
       "    .dataframe tbody tr th:only-of-type {\n",
       "        vertical-align: middle;\n",
       "    }\n",
       "\n",
       "    .dataframe tbody tr th {\n",
       "        vertical-align: top;\n",
       "    }\n",
       "\n",
       "    .dataframe thead th {\n",
       "        text-align: right;\n",
       "    }\n",
       "</style>\n",
       "<table border=\"1\" class=\"dataframe\">\n",
       "  <thead>\n",
       "    <tr style=\"text-align: right;\">\n",
       "      <th></th>\n",
       "      <th>id</th>\n",
       "      <th>host_id</th>\n",
       "      <th>latitude</th>\n",
       "      <th>longitude</th>\n",
       "      <th>neighborhood_id</th>\n",
       "      <th>price</th>\n",
       "      <th>service_fee</th>\n",
       "      <th>minimum_nights</th>\n",
       "      <th>number_of_reviews</th>\n",
       "      <th>reviews_per_month</th>\n",
       "      <th>availability_365</th>\n",
       "    </tr>\n",
       "  </thead>\n",
       "  <tbody>\n",
       "    <tr>\n",
       "      <th>count</th>\n",
       "      <td>1.020580e+05</td>\n",
       "      <td>1.020580e+05</td>\n",
       "      <td>102050.000000</td>\n",
       "      <td>102050.000000</td>\n",
       "      <td>102042.000000</td>\n",
       "      <td>101811.000000</td>\n",
       "      <td>101785.000000</td>\n",
       "      <td>101658.000000</td>\n",
       "      <td>101875.000000</td>\n",
       "      <td>86240.000000</td>\n",
       "      <td>101610.000000</td>\n",
       "    </tr>\n",
       "    <tr>\n",
       "      <th>mean</th>\n",
       "      <td>2.918438e+07</td>\n",
       "      <td>4.926738e+10</td>\n",
       "      <td>40.728097</td>\n",
       "      <td>-73.949652</td>\n",
       "      <td>483.946551</td>\n",
       "      <td>625.355580</td>\n",
       "      <td>125.039249</td>\n",
       "      <td>8.126640</td>\n",
       "      <td>27.517948</td>\n",
       "      <td>1.375408</td>\n",
       "      <td>141.043992</td>\n",
       "    </tr>\n",
       "    <tr>\n",
       "      <th>std</th>\n",
       "      <td>1.627173e+07</td>\n",
       "      <td>2.853742e+10</td>\n",
       "      <td>0.055852</td>\n",
       "      <td>0.049502</td>\n",
       "      <td>2100.188124</td>\n",
       "      <td>331.672649</td>\n",
       "      <td>66.325905</td>\n",
       "      <td>30.616698</td>\n",
       "      <td>49.571744</td>\n",
       "      <td>1.748019</td>\n",
       "      <td>135.429156</td>\n",
       "    </tr>\n",
       "    <tr>\n",
       "      <th>min</th>\n",
       "      <td>1.001254e+06</td>\n",
       "      <td>1.236005e+08</td>\n",
       "      <td>40.499790</td>\n",
       "      <td>-74.249840</td>\n",
       "      <td>1.000000</td>\n",
       "      <td>50.000000</td>\n",
       "      <td>10.000000</td>\n",
       "      <td>-1223.000000</td>\n",
       "      <td>0.000000</td>\n",
       "      <td>0.010000</td>\n",
       "      <td>-10.000000</td>\n",
       "    </tr>\n",
       "    <tr>\n",
       "      <th>25%</th>\n",
       "      <td>1.509286e+07</td>\n",
       "      <td>2.459924e+10</td>\n",
       "      <td>40.688730</td>\n",
       "      <td>-73.982580</td>\n",
       "      <td>10.000000</td>\n",
       "      <td>340.000000</td>\n",
       "      <td>68.000000</td>\n",
       "      <td>2.000000</td>\n",
       "      <td>1.000000</td>\n",
       "      <td>0.220000</td>\n",
       "      <td>3.000000</td>\n",
       "    </tr>\n",
       "    <tr>\n",
       "      <th>50%</th>\n",
       "      <td>2.918438e+07</td>\n",
       "      <td>4.912865e+10</td>\n",
       "      <td>40.722290</td>\n",
       "      <td>-73.954440</td>\n",
       "      <td>31.000000</td>\n",
       "      <td>625.000000</td>\n",
       "      <td>125.000000</td>\n",
       "      <td>3.000000</td>\n",
       "      <td>7.000000</td>\n",
       "      <td>0.740000</td>\n",
       "      <td>96.000000</td>\n",
       "    </tr>\n",
       "    <tr>\n",
       "      <th>75%</th>\n",
       "      <td>4.327590e+07</td>\n",
       "      <td>7.400619e+10</td>\n",
       "      <td>40.762760</td>\n",
       "      <td>-73.932350</td>\n",
       "      <td>171.000000</td>\n",
       "      <td>913.000000</td>\n",
       "      <td>183.000000</td>\n",
       "      <td>5.000000</td>\n",
       "      <td>31.000000</td>\n",
       "      <td>2.010000</td>\n",
       "      <td>268.000000</td>\n",
       "    </tr>\n",
       "    <tr>\n",
       "      <th>max</th>\n",
       "      <td>5.736742e+07</td>\n",
       "      <td>9.876313e+10</td>\n",
       "      <td>40.916970</td>\n",
       "      <td>-73.705220</td>\n",
       "      <td>53138.000000</td>\n",
       "      <td>1200.000000</td>\n",
       "      <td>240.000000</td>\n",
       "      <td>5645.000000</td>\n",
       "      <td>1024.000000</td>\n",
       "      <td>90.000000</td>\n",
       "      <td>3677.000000</td>\n",
       "    </tr>\n",
       "  </tbody>\n",
       "</table>\n",
       "</div>"
      ],
      "text/plain": [
       "                 id       host_id       latitude      longitude  \\\n",
       "count  1.020580e+05  1.020580e+05  102050.000000  102050.000000   \n",
       "mean   2.918438e+07  4.926738e+10      40.728097     -73.949652   \n",
       "std    1.627173e+07  2.853742e+10       0.055852       0.049502   \n",
       "min    1.001254e+06  1.236005e+08      40.499790     -74.249840   \n",
       "25%    1.509286e+07  2.459924e+10      40.688730     -73.982580   \n",
       "50%    2.918438e+07  4.912865e+10      40.722290     -73.954440   \n",
       "75%    4.327590e+07  7.400619e+10      40.762760     -73.932350   \n",
       "max    5.736742e+07  9.876313e+10      40.916970     -73.705220   \n",
       "\n",
       "       neighborhood_id          price    service_fee  minimum_nights  \\\n",
       "count    102042.000000  101811.000000  101785.000000   101658.000000   \n",
       "mean        483.946551     625.355580     125.039249        8.126640   \n",
       "std        2100.188124     331.672649      66.325905       30.616698   \n",
       "min           1.000000      50.000000      10.000000    -1223.000000   \n",
       "25%          10.000000     340.000000      68.000000        2.000000   \n",
       "50%          31.000000     625.000000     125.000000        3.000000   \n",
       "75%         171.000000     913.000000     183.000000        5.000000   \n",
       "max       53138.000000    1200.000000     240.000000     5645.000000   \n",
       "\n",
       "       number_of_reviews  reviews_per_month  availability_365  \n",
       "count      101875.000000       86240.000000     101610.000000  \n",
       "mean           27.517948           1.375408        141.043992  \n",
       "std            49.571744           1.748019        135.429156  \n",
       "min             0.000000           0.010000        -10.000000  \n",
       "25%             1.000000           0.220000          3.000000  \n",
       "50%             7.000000           0.740000         96.000000  \n",
       "75%            31.000000           2.010000        268.000000  \n",
       "max          1024.000000          90.000000       3677.000000  "
      ]
     },
     "execution_count": 128,
     "metadata": {},
     "output_type": "execute_result"
    }
   ],
   "source": [
    "properties.describe()"
   ]
  },
  {
   "cell_type": "code",
   "execution_count": 129,
   "id": "d70d16c8",
   "metadata": {},
   "outputs": [
    {
     "data": {
      "text/plain": [
       "count    1.020580e+05\n",
       "mean     2.918438e+07\n",
       "std      1.627173e+07\n",
       "min      1.001254e+06\n",
       "25%      1.509286e+07\n",
       "50%      2.918438e+07\n",
       "75%      4.327590e+07\n",
       "max      5.736742e+07\n",
       "Name: id, dtype: float64"
      ]
     },
     "execution_count": 129,
     "metadata": {},
     "output_type": "execute_result"
    }
   ],
   "source": [
    "#discrete\n",
    "properties['id'].describe()"
   ]
  },
  {
   "cell_type": "code",
   "execution_count": 130,
   "id": "9fc025bb",
   "metadata": {},
   "outputs": [
    {
     "data": {
      "text/plain": [
       "count    101811.000000\n",
       "mean        625.355580\n",
       "std         331.672649\n",
       "min          50.000000\n",
       "25%         340.000000\n",
       "50%         625.000000\n",
       "75%         913.000000\n",
       "max        1200.000000\n",
       "Name: price, dtype: float64"
      ]
     },
     "execution_count": 130,
     "metadata": {},
     "output_type": "execute_result"
    }
   ],
   "source": [
    "#discrete\n",
    "properties['price'].describe()"
   ]
  },
  {
   "cell_type": "code",
   "execution_count": 131,
   "id": "31069144",
   "metadata": {},
   "outputs": [
    {
     "data": {
      "text/plain": [
       "count    86240.000000\n",
       "mean         1.375408\n",
       "std          1.748019\n",
       "min          0.010000\n",
       "25%          0.220000\n",
       "50%          0.740000\n",
       "75%          2.010000\n",
       "max         90.000000\n",
       "Name: reviews_per_month, dtype: float64"
      ]
     },
     "execution_count": 131,
     "metadata": {},
     "output_type": "execute_result"
    }
   ],
   "source": [
    "#continuous\n",
    "properties['reviews_per_month'].describe()"
   ]
  },
  {
   "cell_type": "markdown",
   "id": "30f2eba7",
   "metadata": {},
   "source": [
    "<hr/>"
   ]
  },
  {
   "cell_type": "markdown",
   "id": "periodic-romania",
   "metadata": {
    "tags": []
   },
   "source": [
    "## Task 5: Identify Missing Values\n"
   ]
  },
  {
   "cell_type": "code",
   "execution_count": 132,
   "id": "exempt-compression",
   "metadata": {},
   "outputs": [
    {
     "data": {
      "text/plain": [
       "id                         0.000000\n",
       "name                       0.244959\n",
       "host_id                    0.000000\n",
       "host_identity_verified     0.283172\n",
       "host_name                  0.395853\n",
       "latitude                   0.007839\n",
       "longitude                  0.007839\n",
       "neighborhood_id            0.015677\n",
       "instant_bookable           0.102883\n",
       "cancellation_policy        0.074467\n",
       "room_type                  0.000000\n",
       "price                      0.242019\n",
       "service_fee                0.267495\n",
       "minimum_nights             0.391934\n",
       "number_of_reviews          0.179310\n",
       "last_review               15.512748\n",
       "reviews_per_month         15.499030\n",
       "availability_365           0.438966\n",
       "house_rules               50.796606\n",
       "license                   99.998040\n",
       "dtype: float64"
      ]
     },
     "execution_count": 132,
     "metadata": {},
     "output_type": "execute_result"
    }
   ],
   "source": [
    "# Percentage of null values\n",
    "properties.isnull().mean() * 100"
   ]
  },
  {
   "cell_type": "markdown",
   "id": "d445d70e",
   "metadata": {},
   "source": [
    "<div style=\"background-color: #f8d7da; padding: 10px;\">\n",
    "    \n",
    "* License is 99% nulls huge problem. Essential for compliance or legal reasons\n",
    "* House_rules 50% null may need to address this issue, especially if house rules are significant for our rental company's policies\n",
    "* Last_review & reviews_per_month have 15% missing values. Depending on your analysis may pose an issue."
   ]
  },
  {
   "cell_type": "code",
   "execution_count": 133,
   "id": "6e6b00f8",
   "metadata": {},
   "outputs": [
    {
     "data": {
      "text/plain": [
       "id                    0.000000\n",
       "neighborhood_group    1.793722\n",
       "neighborhood          0.000000\n",
       "country               2.242152\n",
       "dtype: float64"
      ]
     },
     "execution_count": 133,
     "metadata": {},
     "output_type": "execute_result"
    }
   ],
   "source": [
    "neighborhoods.isnull().mean() * 100"
   ]
  },
  {
   "cell_type": "markdown",
   "id": "818c78c0",
   "metadata": {},
   "source": [
    "<div style=\"background-color: #f8d7da; padding: 10px;\">\n",
    "    \n",
    "* Neighborhoods is pretty good in regards to nulls. "
   ]
  },
  {
   "cell_type": "code",
   "execution_count": 134,
   "id": "specific-angle",
   "metadata": {},
   "outputs": [
    {
     "data": {
      "text/plain": [
       "id                             0\n",
       "name                         250\n",
       "host_id                        0\n",
       "host_identity_verified       289\n",
       "host_name                    404\n",
       "latitude                       8\n",
       "longitude                      8\n",
       "neighborhood_id               16\n",
       "instant_bookable             105\n",
       "cancellation_policy           76\n",
       "room_type                      0\n",
       "price                        247\n",
       "service_fee                  273\n",
       "minimum_nights               400\n",
       "number_of_reviews            183\n",
       "last_review                15832\n",
       "reviews_per_month          15818\n",
       "availability_365             448\n",
       "house_rules                51842\n",
       "license                   102056\n",
       "dtype: int64"
      ]
     },
     "execution_count": 134,
     "metadata": {},
     "output_type": "execute_result"
    }
   ],
   "source": [
    "# Number of null values\n",
    "properties.isnull().sum()"
   ]
  },
  {
   "cell_type": "code",
   "execution_count": 135,
   "id": "075a4f51",
   "metadata": {},
   "outputs": [
    {
     "data": {
      "text/plain": [
       "id                    0\n",
       "neighborhood_group    4\n",
       "neighborhood          0\n",
       "country               5\n",
       "dtype: int64"
      ]
     },
     "execution_count": 135,
     "metadata": {},
     "output_type": "execute_result"
    }
   ],
   "source": [
    "neighborhoods.isnull().sum()"
   ]
  },
  {
   "cell_type": "code",
   "execution_count": 136,
   "id": "superior-console",
   "metadata": {},
   "outputs": [
    {
     "name": "stdout",
     "output_type": "stream",
     "text": [
      "id                         0.000000\n",
      "name                       0.000000\n",
      "host_id                    0.000000\n",
      "host_identity_verified     0.000000\n",
      "host_name                  0.000000\n",
      "latitude                   0.000000\n",
      "longitude                  0.000000\n",
      "neighborhood_id            0.000000\n",
      "instant_bookable          50.153834\n",
      "cancellation_policy        0.000000\n",
      "room_type                  0.000000\n",
      "price                      0.000000\n",
      "service_fee                0.000000\n",
      "minimum_nights             0.000000\n",
      "number_of_reviews         15.356954\n",
      "last_review                0.000000\n",
      "reviews_per_month          0.000000\n",
      "availability_365          22.975171\n",
      "house_rules                0.000000\n",
      "license                    0.000000\n",
      "dtype: float64\n"
     ]
    }
   ],
   "source": [
    "# Percentage of zero values and blanks\n",
    "zero_blank_percentage = (properties[properties == 0].count() + properties[properties == ''].count()) / len(properties) * 100\n",
    "print(zero_blank_percentage)"
   ]
  },
  {
   "cell_type": "code",
   "execution_count": 137,
   "id": "a2ac6164",
   "metadata": {},
   "outputs": [
    {
     "name": "stdout",
     "output_type": "stream",
     "text": [
      "id                    0.0\n",
      "neighborhood_group    0.0\n",
      "neighborhood          0.0\n",
      "country               0.0\n",
      "dtype: float64\n"
     ]
    }
   ],
   "source": [
    "zero_blank_percentage = (neighborhoods[neighborhoods == 0].count() + neighborhoods[neighborhoods == ''].count()) / len(neighborhoods) * 100\n",
    "print(zero_blank_percentage)"
   ]
  },
  {
   "cell_type": "code",
   "execution_count": 138,
   "id": "driven-wrist",
   "metadata": {},
   "outputs": [
    {
     "name": "stdout",
     "output_type": "stream",
     "text": [
      "id                            0\n",
      "name                          0\n",
      "host_id                       0\n",
      "host_identity_verified        0\n",
      "host_name                     0\n",
      "latitude                      0\n",
      "longitude                     0\n",
      "neighborhood_id               0\n",
      "instant_bookable          51186\n",
      "cancellation_policy           0\n",
      "room_type                     0\n",
      "price                         0\n",
      "service_fee                   0\n",
      "minimum_nights                0\n",
      "number_of_reviews         15673\n",
      "last_review                   0\n",
      "reviews_per_month             0\n",
      "availability_365          23448\n",
      "house_rules                   0\n",
      "license                       0\n",
      "dtype: int64\n"
     ]
    }
   ],
   "source": [
    "# Number of zero values\n",
    "zero_counts = (properties == 0).sum()\n",
    "print(zero_counts)"
   ]
  },
  {
   "cell_type": "code",
   "execution_count": 139,
   "id": "9e36ec91",
   "metadata": {},
   "outputs": [
    {
     "name": "stdout",
     "output_type": "stream",
     "text": [
      "id                    0\n",
      "neighborhood_group    0\n",
      "neighborhood          0\n",
      "country               0\n",
      "dtype: int64\n"
     ]
    }
   ],
   "source": [
    "hood_zero_counts = (neighborhoods == 0).sum()\n",
    "print(hood_zero_counts)"
   ]
  },
  {
   "cell_type": "code",
   "execution_count": 140,
   "id": "black-voltage",
   "metadata": {},
   "outputs": [
    {
     "data": {
      "text/plain": [
       "0.04035874439461883"
      ]
     },
     "execution_count": 140,
     "metadata": {},
     "output_type": "execute_result"
    }
   ],
   "source": [
    "# Percentage of null and zero values\n",
    "neighborhoods.isnull().sum().sum()/len(neighborhoods)"
   ]
  },
  {
   "cell_type": "code",
   "execution_count": 141,
   "id": "0ef7e032",
   "metadata": {},
   "outputs": [
    {
     "name": "stdout",
     "output_type": "stream",
     "text": [
      "id                         0.000000\n",
      "name                       0.244959\n",
      "host_id                    0.000000\n",
      "host_identity_verified     0.283172\n",
      "host_name                  0.395853\n",
      "latitude                   0.007839\n",
      "longitude                  0.007839\n",
      "neighborhood_id            0.015677\n",
      "instant_bookable           0.102883\n",
      "cancellation_policy        0.074467\n",
      "room_type                  0.000000\n",
      "price                      0.242019\n",
      "service_fee                0.267495\n",
      "minimum_nights             0.391934\n",
      "number_of_reviews          0.179310\n",
      "last_review               15.512748\n",
      "reviews_per_month         15.499030\n",
      "availability_365           0.438966\n",
      "house_rules               50.796606\n",
      "license                   99.998040\n",
      "dtype: float64\n",
      "id                         0.000000\n",
      "name                       0.000000\n",
      "host_id                    0.000000\n",
      "host_identity_verified     0.000000\n",
      "host_name                  0.000000\n",
      "latitude                   0.000000\n",
      "longitude                  0.000000\n",
      "neighborhood_id            0.000000\n",
      "instant_bookable          50.153834\n",
      "cancellation_policy        0.000000\n",
      "room_type                  0.000000\n",
      "price                      0.000000\n",
      "service_fee                0.000000\n",
      "minimum_nights             0.000000\n",
      "number_of_reviews         15.356954\n",
      "last_review                0.000000\n",
      "reviews_per_month          0.000000\n",
      "availability_365          22.975171\n",
      "house_rules                0.000000\n",
      "license                    0.000000\n",
      "dtype: float64\n"
     ]
    }
   ],
   "source": [
    "null_percentage = properties.isnull().mean() * 100\n",
    "zero_percentage = (properties == 0).mean() * 100\n",
    "print(null_percentage)\n",
    "print(zero_percentage)"
   ]
  },
  {
   "cell_type": "code",
   "execution_count": 142,
   "id": "c9916cd7",
   "metadata": {},
   "outputs": [
    {
     "name": "stdout",
     "output_type": "stream",
     "text": [
      "id                    0.000000\n",
      "neighborhood_group    1.793722\n",
      "neighborhood          0.000000\n",
      "country               2.242152\n",
      "dtype: float64\n",
      "id                    0.0\n",
      "neighborhood_group    0.0\n",
      "neighborhood          0.0\n",
      "country               0.0\n",
      "dtype: float64\n"
     ]
    }
   ],
   "source": [
    "null_percentage1 = neighborhoods.isnull().mean() * 100\n",
    "zero_percentage1 = (neighborhoods == 0).mean() * 100\n",
    "print(null_percentage1)\n",
    "print(zero_percentage1)"
   ]
  },
  {
   "cell_type": "markdown",
   "id": "f40c8139",
   "metadata": {},
   "source": [
    "nans = round(df[col].isna().sum()/df.shape[0]*100, 1)"
   ]
  },
  {
   "cell_type": "code",
   "execution_count": 143,
   "id": "wireless-minute",
   "metadata": {},
   "outputs": [
    {
     "data": {
      "text/plain": [
       "id                             0\n",
       "name                         250\n",
       "host_id                        0\n",
       "host_identity_verified       289\n",
       "host_name                    404\n",
       "latitude                       8\n",
       "longitude                      8\n",
       "neighborhood_id               16\n",
       "instant_bookable             105\n",
       "cancellation_policy           76\n",
       "room_type                      0\n",
       "price                        247\n",
       "service_fee                  273\n",
       "minimum_nights               400\n",
       "number_of_reviews            183\n",
       "last_review                15832\n",
       "reviews_per_month          15818\n",
       "availability_365             448\n",
       "house_rules                51842\n",
       "license                   102056\n",
       "dtype: int64"
      ]
     },
     "execution_count": 143,
     "metadata": {},
     "output_type": "execute_result"
    }
   ],
   "source": [
    "# Number of null and zero values\n",
    "properties.isnull().sum()"
   ]
  },
  {
   "cell_type": "markdown",
   "id": "outstanding-toilet",
   "metadata": {},
   "source": [
    "### 5.2 Observations\n",
    "\n"
   ]
  },
  {
   "cell_type": "markdown",
   "id": "biblical-linux",
   "metadata": {},
   "source": [
    "<div style=\"background-color: #f8d7da; padding: 10px;\">\n",
    "Considering the councils intiatives they should be aware of the following : \n",
    "License is 99% nulls huge problem. Essential for compliance or legal reasons\n",
    "House_rules 50% null may need to address this issue, especially if house rules are significant for our rental company's policies\n",
    "Last_review & reviews_per_month have 15% missing values. Depending on your analysis may pose an issue."
   ]
  },
  {
   "cell_type": "markdown",
   "id": "imperial-accuracy",
   "metadata": {},
   "source": [
    "\n",
    "<hr/>"
   ]
  },
  {
   "cell_type": "markdown",
   "id": "driven-sacramento",
   "metadata": {
    "tags": []
   },
   "source": [
    "## Task 6: Identifing Outliers"
   ]
  },
  {
   "cell_type": "markdown",
   "id": "synthetic-cream",
   "metadata": {},
   "source": [
    "#### 6.1a: Method 1 - Used boxplot to visually spot the outliers\n"
   ]
  },
  {
   "cell_type": "code",
   "execution_count": 144,
   "id": "cognitive-swaziland",
   "metadata": {},
   "outputs": [
    {
     "data": {
      "text/plain": [
       "<AxesSubplot:>"
      ]
     },
     "execution_count": 144,
     "metadata": {},
     "output_type": "execute_result"
    },
    {
     "data": {
      "image/png": "[encoded data removed]",
      "text/plain": [
       "<Figure size 576x432 with 1 Axes>"
      ]
     },
     "metadata": {},
     "output_type": "display_data"
    }
   ],
   "source": [
    "# Plotted\n",
    "plt.style.use('seaborn')\n",
    "plt.rcParams['figure.facecolor'] = '#ECAE8B' \n",
    "properties.boxplot(column='price', figsize=(8, 6), grid=False, fontsize=12, color='black')"
   ]
  },
  {
   "cell_type": "markdown",
   "id": "d61d60a1",
   "metadata": {},
   "source": [
    "Price seems fine. "
   ]
  },
  {
   "cell_type": "code",
   "execution_count": 145,
   "id": "18be3257",
   "metadata": {},
   "outputs": [
    {
     "data": {
      "text/plain": [
       "<AxesSubplot:>"
      ]
     },
     "execution_count": 145,
     "metadata": {},
     "output_type": "execute_result"
    },
    {
     "data": {
      "image/png": "[encoded data removed]",
      "text/plain": [
       "<Figure size 576x432 with 1 Axes>"
      ]
     },
     "metadata": {},
     "output_type": "display_data"
    }
   ],
   "source": [
    "properties.boxplot(column='service_fee', figsize=(8, 6), grid=False, fontsize=12, color='black')"
   ]
  },
  {
   "cell_type": "markdown",
   "id": "965ca537",
   "metadata": {},
   "source": [
    "Service fee seems fine. "
   ]
  },
  {
   "cell_type": "code",
   "execution_count": 146,
   "id": "4eefdbce",
   "metadata": {
    "scrolled": true
   },
   "outputs": [
    {
     "data": {
      "text/plain": [
       "<AxesSubplot:>"
      ]
     },
     "execution_count": 146,
     "metadata": {},
     "output_type": "execute_result"
    },
    {
     "data": {
      "image/png": "[encoded data removed]",
      "text/plain": [
       "<Figure size 576x432 with 1 Axes>"
      ]
     },
     "metadata": {},
     "output_type": "display_data"
    }
   ],
   "source": [
    "properties.boxplot(column='minimum_nights', figsize=(8, 6), grid=False, fontsize=12, color='black')"
   ]
  },
  {
   "cell_type": "markdown",
   "id": "e97f289d",
   "metadata": {},
   "source": [
    "* Minimum nights go over 1000, for a short term rental property this is a very high number. Highly likely an error that will throw off analysis.\n",
    "* Would lead to not enough business. Setting minimum stays that align with typical traveler preferences can attract a broader range of guests and improve overall occupancy rates and revenue. Additionally, clearly communicating minimum stay policies on rental platforms or websites can help manage guest expectations and avoid potential issues related to the outliers.\n",
    "* Properties with very high minimum stays may gain a reputation for being inflexible or unsuitable for the average traveler's needs."
   ]
  },
  {
   "cell_type": "code",
   "execution_count": 147,
   "id": "fe2e7df8",
   "metadata": {},
   "outputs": [
    {
     "data": {
      "text/plain": [
       "id                          int64\n",
       "name                       object\n",
       "host_id                     int64\n",
       "host_identity_verified     object\n",
       "host_name                  object\n",
       "latitude                  float64\n",
       "longitude                 float64\n",
       "neighborhood_id           float64\n",
       "instant_bookable           object\n",
       "cancellation_policy        object\n",
       "room_type                  object\n",
       "price                     float64\n",
       "service_fee               float64\n",
       "minimum_nights            float64\n",
       "number_of_reviews         float64\n",
       "last_review                object\n",
       "reviews_per_month         float64\n",
       "availability_365          float64\n",
       "house_rules                object\n",
       "license                    object\n",
       "dtype: object"
      ]
     },
     "execution_count": 147,
     "metadata": {},
     "output_type": "execute_result"
    }
   ],
   "source": [
    "properties.dtypes"
   ]
  },
  {
   "cell_type": "code",
   "execution_count": 148,
   "id": "444eef0f",
   "metadata": {},
   "outputs": [
    {
     "data": {
      "text/plain": [
       "<AxesSubplot:>"
      ]
     },
     "execution_count": 148,
     "metadata": {},
     "output_type": "execute_result"
    },
    {
     "data": {
      "image/png": "[encoded data removed]",
      "text/plain": [
       "<Figure size 576x432 with 1 Axes>"
      ]
     },
     "metadata": {},
     "output_type": "display_data"
    }
   ],
   "source": [
    "properties.boxplot(column='availability_365', figsize=(8, 6), fontsize=12)"
   ]
  },
  {
   "cell_type": "markdown",
   "id": "055f3dff",
   "metadata": {},
   "source": [
    "Availability_365 has a outlier of 3677 and there are 365 days in a year. This would mean this is avail years in advance. Might be an error. "
   ]
  },
  {
   "cell_type": "code",
   "execution_count": 149,
   "id": "3fbf0d92",
   "metadata": {},
   "outputs": [
    {
     "data": {
      "text/plain": [
       "Text(0.5, 1.0, 'Reviews per Month')"
      ]
     },
     "execution_count": 149,
     "metadata": {},
     "output_type": "execute_result"
    },
    {
     "data": {
      "image/png": "[encoded data removed]",
      "text/plain": [
       "<Figure size 576x396 with 1 Axes>"
      ]
     },
     "metadata": {},
     "output_type": "display_data"
    }
   ],
   "source": [
    "properties.boxplot(column='reviews_per_month', fontsize=12)\n",
    "plt.ylabel('Reviews')\n",
    "plt.title('Reviews per Month')"
   ]
  },
  {
   "cell_type": "markdown",
   "id": "f32966c5",
   "metadata": {},
   "source": [
    "### Fake reviews potentially. This can provide misleading insights. The high numbers of reviews could be positive or negative. "
   ]
  },
  {
   "cell_type": "code",
   "execution_count": 150,
   "id": "966d8490",
   "metadata": {},
   "outputs": [],
   "source": [
    "import geopandas as gpd\n",
    "from shapely.geometry import Point\n",
    "\n",
    "# Created a geometry column from the latitude and longitude coordinates\n",
    "geometry = [Point(xy) for xy in zip(properties['longitude'], properties['latitude'])]\n",
    "\n",
    "# Created a GeoDataFrame from the properties DataFrame and the geometry column\n",
    "geo_properties = gpd.GeoDataFrame(properties, geometry=geometry)"
   ]
  },
  {
   "cell_type": "code",
   "execution_count": 151,
   "id": "8d43c42f",
   "metadata": {},
   "outputs": [],
   "source": [
    "geojson_file = r'C:\\Users\\Yupro-11\\Documents\\D5\\2010 Census Tracts.geojson'\n",
    "gdf_nyc = gpd.read_file(geojson_file)"
   ]
  },
  {
   "cell_type": "code",
   "execution_count": 152,
   "id": "fa387ae4",
   "metadata": {},
   "outputs": [
    {
     "data": {
      "image/png": "[encoded data removed]",
      "text/plain": [
       "<Figure size 864x576 with 1 Axes>"
      ]
     },
     "metadata": {},
     "output_type": "display_data"
    }
   ],
   "source": [
    "fig, ax = plt.subplots(figsize=(12, 8))\n",
    "gdf_nyc.plot(ax=ax, color='lightgray', edgecolor='black')\n",
    "geo_properties.plot(ax=ax, color='red', markersize=5)\n",
    "ax.set_title(\"Properties in New York City\")\n",
    "ax.set_xlabel(\"Longitude\")\n",
    "ax.set_ylabel(\"Latitude\")\n",
    "plt.axis('equal')\n",
    "plt.show()"
   ]
  },
  {
   "cell_type": "markdown",
   "id": "f72c557b",
   "metadata": {},
   "source": [
    "Using long anf lat, we created pins to see how much of nyc does staywherever actually cover. Hope the council finds this helpful. "
   ]
  },
  {
   "cell_type": "markdown",
   "id": "worst-division",
   "metadata": {},
   "source": [
    "#### 6.1b: Method 2 - Find the top 1% and bottom 1% of extreme values \n",
    "Simply flag the values that are outside the middle 98% of the distribution. This eliminates the extremes from both ends. "
   ]
  },
  {
   "cell_type": "code",
   "execution_count": 153,
   "id": "preliminary-consumption",
   "metadata": {},
   "outputs": [
    {
     "name": "stdout",
     "output_type": "stream",
     "text": [
      "              id                                               name  \\\n",
      "144      1080867                 Fully Furnished Basement Apartment   \n",
      "230      1128365                  Nice, clean, safe, convenient 3BR   \n",
      "318      1176967                                                NaN   \n",
      "356      1197955                LOVELY APARTMENT IN THE HEART OF NY   \n",
      "554      1307310                            Modern Condo in Midtown   \n",
      "...          ...                                                ...   \n",
      "101637  57135451  Modern Rooftop Loft W/ Private Ensuite & Cityv...   \n",
      "101647  57140974  Shay's Place #1\\n( 1 Bdrm. Apt )\\n5 mins From JFK   \n",
      "101967  57317710                Private bedroom 8 mins-JFK&The Mall   \n",
      "101990  57330413  5 minutes from JFK,one single cozy bedroom for...   \n",
      "102040  57358028                      Room in Queens, NY, near LGA.   \n",
      "\n",
      "            host_id host_identity_verified host_name  latitude  longitude  \\\n",
      "144     57811865410            unconfirmed   Dominik  40.74028  -73.83168   \n",
      "230     41153188173            unconfirmed    Fowler  40.70411  -73.89934   \n",
      "318     70084472212               verified    Barnes  40.72488  -73.95018   \n",
      "356     17771700593            unconfirmed     Davis  40.73877  -73.97707   \n",
      "554     64786057639               verified   Preston  40.75895  -73.98830   \n",
      "...             ...                    ...       ...       ...        ...   \n",
      "101637  51990177488            unconfirmed   Shelley  40.67520  -73.93215   \n",
      "101647  26299641873            unconfirmed    Sheila  40.66812  -73.76303   \n",
      "101967   8468374547               verified    Yvonne  40.68638  -73.79007   \n",
      "101990  57075249279               verified     Kevin  40.68073  -73.78354   \n",
      "102040  56457739998               verified     Sonia  40.76245  -73.87938   \n",
      "\n",
      "        neighborhood_id instant_bookable cancellation_policy        room_type  \\\n",
      "144               145.0             True              strict     Private room   \n",
      "230               183.0             True              strict  Entire home/apt   \n",
      "318                34.0             True            flexible     Private room   \n",
      "356                56.0             True            flexible  Entire home/apt   \n",
      "554               555.0             True            flexible     Private room   \n",
      "...                 ...              ...                 ...              ...   \n",
      "101637             20.0            False              strict     Private room   \n",
      "101647           5613.0             True            moderate  Entire home/apt   \n",
      "101967            198.0            False              strict     Private room   \n",
      "101990            198.0             True            flexible     Private room   \n",
      "102040           1164.0             True              strict     Private room   \n",
      "\n",
      "        price  service_fee  minimum_nights  number_of_reviews last_review  \\\n",
      "144     606.0        121.0             NaN                1.0         NaN   \n",
      "230     656.0        131.0            14.0                1.0    4/3/2022   \n",
      "318     920.0        184.0             2.0                1.0   3/28/2026   \n",
      "356     943.0        189.0             NaN                1.0    2/4/2022   \n",
      "554     704.0        141.0             NaN              330.0   6/20/2019   \n",
      "...       ...          ...             ...                ...         ...   \n",
      "101637  522.0        104.0             1.0              213.0   6/30/2019   \n",
      "101647   80.0         16.0             1.0              240.0    7/7/2019   \n",
      "101967  158.0         32.0             1.0              347.0    7/6/2019   \n",
      "101990  622.0        124.0             1.0              336.0    7/5/2019   \n",
      "102040  982.0        196.0             1.0              239.0   6/29/2019   \n",
      "\n",
      "        reviews_per_month  availability_365  \\\n",
      "144                  0.01             389.0   \n",
      "230                  0.01              80.0   \n",
      "318                  0.01              73.0   \n",
      "356                  0.01             214.0   \n",
      "554                  7.14             420.0   \n",
      "...                   ...               ...   \n",
      "101637               7.71              52.0   \n",
      "101647               9.66             253.0   \n",
      "101967              13.48             159.0   \n",
      "101990              11.91             345.0   \n",
      "102040               8.58             361.0   \n",
      "\n",
      "                                              house_rules license  \n",
      "144     - NO parties or events. -NO smoking inside. Yo...     NaN  \n",
      "230     -Remove shoes -be sure to lock the front door ...     NaN  \n",
      "318     Check-In is 3pm.  Check-Out is 12 Noon.  In or...     NaN  \n",
      "356     We expect that you will treat our house like y...     NaN  \n",
      "554     Please respect the place as if it was your own...     NaN  \n",
      "...                                                   ...     ...  \n",
      "101637                                                NaN     NaN  \n",
      "101647                                                NaN     NaN  \n",
      "101967  Please be respectful of my things! I have a lo...     NaN  \n",
      "101990  No smoking in the bedroom. Smoking is allowed ...     NaN  \n",
      "102040  1. Please clean-up after yourself in the kitch...     NaN  \n",
      "\n",
      "[928 rows x 20 columns]\n"
     ]
    }
   ],
   "source": [
    "# Calculated the lower and upper thresholds\n",
    "lower_threshold = properties['reviews_per_month'].quantile(0.01)\n",
    "upper_threshold = properties['reviews_per_month'].quantile(0.99)\n",
    "\n",
    "#\n",
    "mask = (properties['reviews_per_month'] < lower_threshold) | (properties['reviews_per_month'] > upper_threshold)\n",
    "\n",
    "# \n",
    "outliers = properties[mask]\n",
    "\n",
    "# \n",
    "print(outliers)"
   ]
  },
  {
   "cell_type": "code",
   "execution_count": 154,
   "id": "7d3bda6e",
   "metadata": {},
   "outputs": [
    {
     "name": "stdout",
     "output_type": "stream",
     "text": [
      "              id                                               name  \\\n",
      "78       1044415                              Little King of Queens   \n",
      "93       1052700  Large Parlor Room, Landmark Home 1 block to PRATT   \n",
      "138      1077553                 Room with En Suite Bathroom & Deck   \n",
      "229      1127813                 Spacious 1BR, Adorable Clean Quiet   \n",
      "232      1129470    Artistic, Cozy, and Spacious w/ Patio! Sleeps 5   \n",
      "...          ...                                                ...   \n",
      "101817  57234865                                Riverside Park Nest   \n",
      "101881  57270212       BEST LOCATION IN SOHO AND SPACIOUS APARTMENT   \n",
      "101975  57322129  (2R) Cozy and clean bedroom with private bathroom   \n",
      "102006  57339250                     Bahia Brazil Vibe - Entire apt   \n",
      "102008  57340354                Private Room in Brooklyn Brownstone   \n",
      "\n",
      "            host_id host_identity_verified   host_name  latitude  longitude  \\\n",
      "78      68599531533            unconfirmed     Melanie  40.75038  -73.90334   \n",
      "93      89635238032            unconfirmed       Rubie  40.68634  -73.96600   \n",
      "138     80213101260               verified     Dominik  40.68730  -73.96340   \n",
      "229      5961679794               verified  Montgomery  40.72052  -73.98589   \n",
      "232     14920488865            unconfirmed       Adams  40.71756  -73.99503   \n",
      "...             ...                    ...         ...       ...        ...   \n",
      "101817  65156235419            unconfirmed        Eric  40.79517  -73.97555   \n",
      "101881  83220442609            unconfirmed      Alonso  40.71942  -73.99694   \n",
      "101975   5623879213            unconfirmed      Steven  40.73318  -73.79322   \n",
      "102006  77812273202               verified     Miralva  40.65218  -73.96193   \n",
      "102008  57410631894            unconfirmed      Hallie  40.68119  -73.93722   \n",
      "\n",
      "        neighborhood_id instant_bookable cancellation_policy        room_type  \\\n",
      "78                 79.0             True            flexible     Private room   \n",
      "93                  4.0             True            moderate     Private room   \n",
      "138                 4.0             True              strict     Private room   \n",
      "229                41.0            False              strict  Entire home/apt   \n",
      "232                11.0            False            flexible  Entire home/apt   \n",
      "...                 ...              ...                 ...              ...   \n",
      "101817             10.0             True            moderate  Entire home/apt   \n",
      "101881            243.0             True            moderate  Entire home/apt   \n",
      "101975           4920.0             True              strict  Entire home/apt   \n",
      "102006             40.0             True              strict  Entire home/apt   \n",
      "102008              7.0            False            flexible     Private room   \n",
      "\n",
      "         price  service_fee  minimum_nights  number_of_reviews last_review  \\\n",
      "78        54.0         11.0            30.0               25.0         NaN   \n",
      "93        51.0         10.0             7.0               16.0   5/31/2019   \n",
      "138     1192.0        238.0             NaN              426.0   6/24/2019   \n",
      "229       54.0         11.0             3.0               41.0    1/2/2019   \n",
      "232     1198.0        240.0             4.0               18.0    7/1/2019   \n",
      "...        ...          ...             ...                ...         ...   \n",
      "101817    58.0         12.0            30.0                5.0    6/6/2019   \n",
      "101881  1199.0        240.0             1.0               67.0   1/20/2019   \n",
      "101975    57.0         11.0             2.0              113.0    7/3/2019   \n",
      "102006  1195.0        239.0             3.0               26.0    7/1/2019   \n",
      "102008    51.0         10.0             2.0                2.0   3/29/2017   \n",
      "\n",
      "        reviews_per_month  availability_365  \\\n",
      "78                   0.22               NaN   \n",
      "93                   0.20               NaN   \n",
      "138                  3.89              92.0   \n",
      "229                  0.39             322.0   \n",
      "232                  0.18             382.0   \n",
      "...                   ...               ...   \n",
      "101817               0.21             271.0   \n",
      "101881               2.45             189.0   \n",
      "101975               4.04               3.0   \n",
      "102006               1.09             161.0   \n",
      "102008               0.07               0.0   \n",
      "\n",
      "                                              house_rules license  \n",
      "78      No Street Shoes allowed in House. No cooking K...     NaN  \n",
      "93      House rules are just common sense; especially ...     NaN  \n",
      "138     No Smoking No Pets No Parties but few friends ...     NaN  \n",
      "229     Guests to be reasonable; don't make late-night...     NaN  \n",
      "232     No smoking inside or outside.  Please no food ...     NaN  \n",
      "...                                                   ...     ...  \n",
      "101817  smoking outside no pets quiet friendly people ...     NaN  \n",
      "101881                                                NaN     NaN  \n",
      "101975  No Smoking inside the apartment No Pets When p...     NaN  \n",
      "102006  No smoking, no pets. Rest of the house is a mi...     NaN  \n",
      "102008                                                NaN     NaN  \n",
      "\n",
      "[1964 rows x 20 columns]\n"
     ]
    }
   ],
   "source": [
    "# Calculated the lower and upper thresholds\n",
    "lower_threshold = properties['price'].quantile(0.01)\n",
    "upper_threshold = properties['price'].quantile(0.99)\n",
    "\n",
    "# \n",
    "mask = (properties['price'] < lower_threshold) | (properties['price'] > upper_threshold)\n",
    "\n",
    "# \n",
    "outliers = properties[mask]\n",
    "\n",
    "#\n",
    "print(outliers)"
   ]
  },
  {
   "cell_type": "markdown",
   "id": "statewide-terry",
   "metadata": {},
   "source": [
    "#### 6.1c: Method 3 -  IQR outlier rule \n",
    "This is also an industry standard way of calculating outliers. You can review the rule here: [Box plots](https://openclassrooms.com/en/courses/6037301-perform-an-initial-data-analysis/6052306-calculate-the-value-spread-in-your-data#/id/r-6133902)"
   ]
  },
  {
   "cell_type": "code",
   "execution_count": 155,
   "id": "optional-bracket",
   "metadata": {},
   "outputs": [
    {
     "name": "stdout",
     "output_type": "stream",
     "text": [
      "Empty DataFrame\n",
      "Columns: [id, name, host_id, host_identity_verified, host_name, latitude, longitude, neighborhood_id, instant_bookable, cancellation_policy, room_type, price, service_fee, minimum_nights, number_of_reviews, last_review, reviews_per_month, availability_365, house_rules, license]\n",
      "Index: []\n"
     ]
    }
   ],
   "source": [
    "# Code here\n",
    "Q1 = properties['price'].quantile(0.25)\n",
    "Q3 = properties['price'].quantile(0.75)\n",
    "IQR = Q3 - Q1\n",
    "\n",
    "# \n",
    "lower_bound = Q1 - 1.5 * IQR\n",
    "upper_bound = Q3 + 1.5 * IQR\n",
    "\n",
    "# \n",
    "mask = (properties['price'] < lower_bound) | (properties['price'] > upper_bound)\n",
    "\n",
    "# \n",
    "outliers = properties[mask]\n",
    "\n",
    "# \n",
    "print(outliers)"
   ]
  },
  {
   "cell_type": "code",
   "execution_count": 156,
   "id": "ff005584",
   "metadata": {},
   "outputs": [
    {
     "name": "stdout",
     "output_type": "stream",
     "text": [
      "              id                                               name  \\\n",
      "68       1038892                Sunny, Modern room in East Village!   \n",
      "472      1262022                    LG Private Room/Family Friendly   \n",
      "535      1296817  Hospitality on Propsect Pk-12 yrs Hosting Lega...   \n",
      "554      1307310                            Modern Condo in Midtown   \n",
      "1104     1611075                                   yahmanscrashpads   \n",
      "...          ...                                                ...   \n",
      "101967  57317710                Private bedroom 8 mins-JFK&The Mall   \n",
      "101990  57330413  5 minutes from JFK,one single cozy bedroom for...   \n",
      "101995  57333175  Lovely 2-bedroom 1bath in Chinatown & Little I...   \n",
      "101996  57333727                Gorgeous bedroom 8mins-JFK&the mall   \n",
      "102040  57358028                      Room in Queens, NY, near LGA.   \n",
      "\n",
      "            host_id host_identity_verified  host_name  latitude  longitude  \\\n",
      "68      79667908130            unconfirmed     Walter  40.72649  -73.97904   \n",
      "472     45447948206               verified  Alexander  40.70283  -73.92131   \n",
      "535     78673339212            unconfirmed     Gianna  40.65513  -73.95641   \n",
      "554     64786057639               verified    Preston  40.75895  -73.98830   \n",
      "1104    30451972197               verified      Lloyd  40.67747  -73.76493   \n",
      "...             ...                    ...        ...       ...        ...   \n",
      "101967   8468374547               verified     Yvonne  40.68638  -73.79007   \n",
      "101990  57075249279               verified      Kevin  40.68073  -73.78354   \n",
      "101995  31321031581               verified     Carmen  40.71463  -73.99658   \n",
      "101996  57820379839            unconfirmed     Yvonne  40.68787  -73.78843   \n",
      "102040  56457739998               verified      Sonia  40.76245  -73.87938   \n",
      "\n",
      "        neighborhood_id instant_bookable cancellation_policy        room_type  \\\n",
      "68                 31.0            False              strict     Private room   \n",
      "472                39.0             True            moderate     Private room   \n",
      "535                47.0            False            moderate     Private room   \n",
      "554               555.0             True            flexible     Private room   \n",
      "1104              198.0             True            moderate      Shared room   \n",
      "...                 ...              ...                 ...              ...   \n",
      "101967            198.0            False              strict     Private room   \n",
      "101990            198.0             True            flexible     Private room   \n",
      "101995             11.0            False            moderate  Entire home/apt   \n",
      "101996            198.0             True            flexible     Private room   \n",
      "102040           1164.0             True              strict     Private room   \n",
      "\n",
      "         price  service_fee  minimum_nights  number_of_reviews last_review  \\\n",
      "68        87.0         17.0             1.0              338.0    7/1/2019   \n",
      "472     1111.0        222.0             NaN              480.0    7/7/2019   \n",
      "535      556.0        111.0             1.0              401.0    7/4/2019   \n",
      "554      704.0        141.0             NaN              330.0   6/20/2019   \n",
      "1104     795.0        159.0             1.0              454.0   6/18/2019   \n",
      "...        ...          ...             ...                ...         ...   \n",
      "101967   158.0         32.0             1.0              347.0    7/6/2019   \n",
      "101990   622.0        124.0             1.0              336.0    7/5/2019   \n",
      "101995   452.0         90.0             1.0              146.0   6/24/2019   \n",
      "101996  1069.0        214.0             1.0              129.0   6/23/2019   \n",
      "102040   982.0        196.0             1.0              239.0   6/29/2019   \n",
      "\n",
      "        reviews_per_month  availability_365  \\\n",
      "68                   4.72               NaN   \n",
      "472                  6.70             319.0   \n",
      "535                  6.62             313.0   \n",
      "554                  7.14             420.0   \n",
      "1104                 5.27              21.0   \n",
      "...                   ...               ...   \n",
      "101967              13.48             159.0   \n",
      "101990              11.91             345.0   \n",
      "101995               5.28             212.0   \n",
      "101996               5.19             180.0   \n",
      "102040               8.58             361.0   \n",
      "\n",
      "                                              house_rules license  \n",
      "68                                                    NaN     NaN  \n",
      "472                                                   NaN     NaN  \n",
      "535     No Smoking, no pets, no late night parties, fi...     NaN  \n",
      "554     Please respect the place as if it was your own...     NaN  \n",
      "1104                                               #NAME?     NaN  \n",
      "...                                                   ...     ...  \n",
      "101967  Please be respectful of my things! I have a lo...     NaN  \n",
      "101990  No smoking in the bedroom. Smoking is allowed ...     NaN  \n",
      "101995  Be thoughtful and considerate! Be kind to the ...     NaN  \n",
      "101996  No pets allowed. No smoking inside the house. ...     NaN  \n",
      "102040  1. Please clean-up after yourself in the kitch...     NaN  \n",
      "\n",
      "[3902 rows x 20 columns]\n"
     ]
    }
   ],
   "source": [
    "Q1 = properties['reviews_per_month'].quantile(0.25)\n",
    "Q3 = properties['reviews_per_month'].quantile(0.75)\n",
    "IQR = Q3 - Q1\n",
    "\n",
    "# Defined the lower and upper bounds\n",
    "lower_bound = Q1 - 1.5 * IQR\n",
    "upper_bound = Q3 + 1.5 * IQR\n",
    "\n",
    "# Created a mask to select outliers\n",
    "mask = (properties['reviews_per_month'] < lower_bound) | (properties['reviews_per_month'] > upper_bound)\n",
    "\n",
    "\n",
    "outliers = properties[mask]\n",
    "\n",
    "\n",
    "print(outliers)"
   ]
  },
  {
   "cell_type": "code",
   "execution_count": 157,
   "id": "0c5dd0c5",
   "metadata": {},
   "outputs": [
    {
     "name": "stdout",
     "output_type": "stream",
     "text": [
      "              id                                               name  \\\n",
      "78       1044415                              Little King of Queens   \n",
      "93       1052700  Large Parlor Room, Landmark Home 1 block to PRATT   \n",
      "138      1077553                 Room with En Suite Bathroom & Deck   \n",
      "229      1127813                 Spacious 1BR, Adorable Clean Quiet   \n",
      "232      1129470    Artistic, Cozy, and Spacious w/ Patio! Sleeps 5   \n",
      "...          ...                                                ...   \n",
      "101817  57234865                                Riverside Park Nest   \n",
      "101881  57270212       BEST LOCATION IN SOHO AND SPACIOUS APARTMENT   \n",
      "101975  57322129  (2R) Cozy and clean bedroom with private bathroom   \n",
      "102006  57339250                     Bahia Brazil Vibe - Entire apt   \n",
      "102008  57340354                Private Room in Brooklyn Brownstone   \n",
      "\n",
      "            host_id host_identity_verified   host_name  latitude  longitude  \\\n",
      "78      68599531533            unconfirmed     Melanie  40.75038  -73.90334   \n",
      "93      89635238032            unconfirmed       Rubie  40.68634  -73.96600   \n",
      "138     80213101260               verified     Dominik  40.68730  -73.96340   \n",
      "229      5961679794               verified  Montgomery  40.72052  -73.98589   \n",
      "232     14920488865            unconfirmed       Adams  40.71756  -73.99503   \n",
      "...             ...                    ...         ...       ...        ...   \n",
      "101817  65156235419            unconfirmed        Eric  40.79517  -73.97555   \n",
      "101881  83220442609            unconfirmed      Alonso  40.71942  -73.99694   \n",
      "101975   5623879213            unconfirmed      Steven  40.73318  -73.79322   \n",
      "102006  77812273202               verified     Miralva  40.65218  -73.96193   \n",
      "102008  57410631894            unconfirmed      Hallie  40.68119  -73.93722   \n",
      "\n",
      "        neighborhood_id instant_bookable cancellation_policy        room_type  \\\n",
      "78                 79.0             True            flexible     Private room   \n",
      "93                  4.0             True            moderate     Private room   \n",
      "138                 4.0             True              strict     Private room   \n",
      "229                41.0            False              strict  Entire home/apt   \n",
      "232                11.0            False            flexible  Entire home/apt   \n",
      "...                 ...              ...                 ...              ...   \n",
      "101817             10.0             True            moderate  Entire home/apt   \n",
      "101881            243.0             True            moderate  Entire home/apt   \n",
      "101975           4920.0             True              strict  Entire home/apt   \n",
      "102006             40.0             True              strict  Entire home/apt   \n",
      "102008              7.0            False            flexible     Private room   \n",
      "\n",
      "         price  service_fee  minimum_nights  number_of_reviews last_review  \\\n",
      "78        54.0         11.0            30.0               25.0         NaN   \n",
      "93        51.0         10.0             7.0               16.0   5/31/2019   \n",
      "138     1192.0        238.0             NaN              426.0   6/24/2019   \n",
      "229       54.0         11.0             3.0               41.0    1/2/2019   \n",
      "232     1198.0        240.0             4.0               18.0    7/1/2019   \n",
      "...        ...          ...             ...                ...         ...   \n",
      "101817    58.0         12.0            30.0                5.0    6/6/2019   \n",
      "101881  1199.0        240.0             1.0               67.0   1/20/2019   \n",
      "101975    57.0         11.0             2.0              113.0    7/3/2019   \n",
      "102006  1195.0        239.0             3.0               26.0    7/1/2019   \n",
      "102008    51.0         10.0             2.0                2.0   3/29/2017   \n",
      "\n",
      "        reviews_per_month  availability_365  \\\n",
      "78                   0.22               NaN   \n",
      "93                   0.20               NaN   \n",
      "138                  3.89              92.0   \n",
      "229                  0.39             322.0   \n",
      "232                  0.18             382.0   \n",
      "...                   ...               ...   \n",
      "101817               0.21             271.0   \n",
      "101881               2.45             189.0   \n",
      "101975               4.04               3.0   \n",
      "102006               1.09             161.0   \n",
      "102008               0.07               0.0   \n",
      "\n",
      "                                              house_rules license  \n",
      "78      No Street Shoes allowed in House. No cooking K...     NaN  \n",
      "93      House rules are just common sense; especially ...     NaN  \n",
      "138     No Smoking No Pets No Parties but few friends ...     NaN  \n",
      "229     Guests to be reasonable; don't make late-night...     NaN  \n",
      "232     No smoking inside or outside.  Please no food ...     NaN  \n",
      "...                                                   ...     ...  \n",
      "101817  smoking outside no pets quiet friendly people ...     NaN  \n",
      "101881                                                NaN     NaN  \n",
      "101975  No Smoking inside the apartment No Pets When p...     NaN  \n",
      "102006  No smoking, no pets. Rest of the house is a mi...     NaN  \n",
      "102008                                                NaN     NaN  \n",
      "\n",
      "[1964 rows x 20 columns]\n"
     ]
    }
   ],
   "source": [
    "high_extreme = properties['price'].quantile(0.99)\n",
    "low_extreme = properties['price'].quantile(0.01)\n",
    "\n",
    "# mask of outliers\n",
    "mask = (properties['price'] < low_extreme) | (properties['price'] > high_extreme)\n",
    "\n",
    "\n",
    "outliers = properties[mask]\n",
    "\n",
    "\n",
    "print(outliers)"
   ]
  },
  {
   "cell_type": "code",
   "execution_count": 158,
   "id": "36b7eb36",
   "metadata": {},
   "outputs": [
    {
     "data": {
      "text/plain": [
       "Index(['id', 'name', 'host_id', 'host_identity_verified', 'host_name',\n",
       "       'latitude', 'longitude', 'neighborhood_id', 'instant_bookable',\n",
       "       'cancellation_policy', 'room_type', 'price', 'service_fee',\n",
       "       'minimum_nights', 'number_of_reviews', 'last_review',\n",
       "       'reviews_per_month', 'availability_365', 'house_rules', 'license'],\n",
       "      dtype='object')"
      ]
     },
     "execution_count": 158,
     "metadata": {},
     "output_type": "execute_result"
    }
   ],
   "source": [
    "properties.columns"
   ]
  },
  {
   "cell_type": "code",
   "execution_count": 159,
   "id": "8640465c",
   "metadata": {},
   "outputs": [
    {
     "name": "stdout",
     "output_type": "stream",
     "text": [
      "              id   price last_review  \\\n",
      "78       1044415    54.0         NaN   \n",
      "93       1052700    51.0   5/31/2019   \n",
      "138      1077553  1192.0   6/24/2019   \n",
      "229      1127813    54.0    1/2/2019   \n",
      "232      1129470  1198.0    7/1/2019   \n",
      "...          ...     ...         ...   \n",
      "101817  57234865    58.0    6/6/2019   \n",
      "101881  57270212  1199.0   1/20/2019   \n",
      "101975  57322129    57.0    7/3/2019   \n",
      "102006  57339250  1195.0    7/1/2019   \n",
      "102008  57340354    51.0   3/29/2017   \n",
      "\n",
      "                                              house_rules  \n",
      "78      No Street Shoes allowed in House. No cooking K...  \n",
      "93      House rules are just common sense; especially ...  \n",
      "138     No Smoking No Pets No Parties but few friends ...  \n",
      "229     Guests to be reasonable; don't make late-night...  \n",
      "232     No smoking inside or outside.  Please no food ...  \n",
      "...                                                   ...  \n",
      "101817  smoking outside no pets quiet friendly people ...  \n",
      "101881                                                NaN  \n",
      "101975  No Smoking inside the apartment No Pets When p...  \n",
      "102006  No smoking, no pets. Rest of the house is a mi...  \n",
      "102008                                                NaN  \n",
      "\n",
      "[1964 rows x 4 columns]\n"
     ]
    }
   ],
   "source": [
    "columns_to_display = ['id', 'price', 'last_review', 'house_rules']\n",
    "\n",
    "print(outliers[columns_to_display])"
   ]
  },
  {
   "cell_type": "code",
   "execution_count": 160,
   "id": "09008389",
   "metadata": {},
   "outputs": [
    {
     "name": "stdout",
     "output_type": "stream",
     "text": [
      "Outliers for 'id':\n",
      "68         1038892\n",
      "472        1262022\n",
      "535        1296817\n",
      "554        1307310\n",
      "1104       1611075\n",
      "            ...   \n",
      "101967    57317710\n",
      "101990    57330413\n",
      "101995    57333175\n",
      "101996    57333727\n",
      "102040    57358028\n",
      "Name: id, Length: 3902, dtype: int64\n",
      "\n",
      "Outliers for 'name':\n",
      "68                      Sunny, Modern room in East Village!\n",
      "472                         LG Private Room/Family Friendly\n",
      "535       Hospitality on Propsect Pk-12 yrs Hosting Lega...\n",
      "554                                 Modern Condo in Midtown\n",
      "1104                                       yahmanscrashpads\n",
      "                                ...                        \n",
      "101967                  Private bedroom 8 mins-JFK&The Mall\n",
      "101990    5 minutes from JFK,one single cozy bedroom for...\n",
      "101995    Lovely 2-bedroom 1bath in Chinatown & Little I...\n",
      "101996                  Gorgeous bedroom 8mins-JFK&the mall\n",
      "102040                        Room in Queens, NY, near LGA.\n",
      "Name: name, Length: 3902, dtype: object\n",
      "\n",
      "Outliers for 'host_id':\n",
      "68        79667908130\n",
      "472       45447948206\n",
      "535       78673339212\n",
      "554       64786057639\n",
      "1104      30451972197\n",
      "             ...     \n",
      "101967     8468374547\n",
      "101990    57075249279\n",
      "101995    31321031581\n",
      "101996    57820379839\n",
      "102040    56457739998\n",
      "Name: host_id, Length: 3902, dtype: int64\n",
      "\n",
      "Outliers for 'host_identity_verified':\n",
      "68        unconfirmed\n",
      "472          verified\n",
      "535       unconfirmed\n",
      "554          verified\n",
      "1104         verified\n",
      "             ...     \n",
      "101967       verified\n",
      "101990       verified\n",
      "101995       verified\n",
      "101996    unconfirmed\n",
      "102040       verified\n",
      "Name: host_identity_verified, Length: 3902, dtype: object\n",
      "\n",
      "Outliers for 'host_name':\n",
      "68           Walter\n",
      "472       Alexander\n",
      "535          Gianna\n",
      "554         Preston\n",
      "1104          Lloyd\n",
      "            ...    \n",
      "101967       Yvonne\n",
      "101990        Kevin\n",
      "101995       Carmen\n",
      "101996       Yvonne\n",
      "102040        Sonia\n",
      "Name: host_name, Length: 3902, dtype: object\n",
      "\n",
      "Outliers for 'latitude':\n",
      "68        40.72649\n",
      "472       40.70283\n",
      "535       40.65513\n",
      "554       40.75895\n",
      "1104      40.67747\n",
      "            ...   \n",
      "101967    40.68638\n",
      "101990    40.68073\n",
      "101995    40.71463\n",
      "101996    40.68787\n",
      "102040    40.76245\n",
      "Name: latitude, Length: 3902, dtype: float64\n",
      "\n",
      "Outliers for 'longitude':\n",
      "68       -73.97904\n",
      "472      -73.92131\n",
      "535      -73.95641\n",
      "554      -73.98830\n",
      "1104     -73.76493\n",
      "            ...   \n",
      "101967   -73.79007\n",
      "101990   -73.78354\n",
      "101995   -73.99658\n",
      "101996   -73.78843\n",
      "102040   -73.87938\n",
      "Name: longitude, Length: 3902, dtype: float64\n",
      "\n",
      "Outliers for 'neighborhood_id':\n",
      "68          31.0\n",
      "472         39.0\n",
      "535         47.0\n",
      "554        555.0\n",
      "1104       198.0\n",
      "           ...  \n",
      "101967     198.0\n",
      "101990     198.0\n",
      "101995      11.0\n",
      "101996     198.0\n",
      "102040    1164.0\n",
      "Name: neighborhood_id, Length: 3902, dtype: float64\n",
      "\n",
      "Outliers for 'instant_bookable':\n",
      "68        False\n",
      "472        True\n",
      "535       False\n",
      "554        True\n",
      "1104       True\n",
      "          ...  \n",
      "101967    False\n",
      "101990     True\n",
      "101995    False\n",
      "101996     True\n",
      "102040     True\n",
      "Name: instant_bookable, Length: 3902, dtype: object\n",
      "\n",
      "Outliers for 'cancellation_policy':\n",
      "68          strict\n",
      "472       moderate\n",
      "535       moderate\n",
      "554       flexible\n",
      "1104      moderate\n",
      "            ...   \n",
      "101967      strict\n",
      "101990    flexible\n",
      "101995    moderate\n",
      "101996    flexible\n",
      "102040      strict\n",
      "Name: cancellation_policy, Length: 3902, dtype: object\n",
      "\n",
      "Outliers for 'room_type':\n",
      "68           Private room\n",
      "472          Private room\n",
      "535          Private room\n",
      "554          Private room\n",
      "1104          Shared room\n",
      "               ...       \n",
      "101967       Private room\n",
      "101990       Private room\n",
      "101995    Entire home/apt\n",
      "101996       Private room\n",
      "102040       Private room\n",
      "Name: room_type, Length: 3902, dtype: object\n",
      "\n",
      "Outliers for 'price':\n",
      "68          87.0\n",
      "472       1111.0\n",
      "535        556.0\n",
      "554        704.0\n",
      "1104       795.0\n",
      "           ...  \n",
      "101967     158.0\n",
      "101990     622.0\n",
      "101995     452.0\n",
      "101996    1069.0\n",
      "102040     982.0\n",
      "Name: price, Length: 3902, dtype: float64\n",
      "\n",
      "Outliers for 'service_fee':\n",
      "68         17.0\n",
      "472       222.0\n",
      "535       111.0\n",
      "554       141.0\n",
      "1104      159.0\n",
      "          ...  \n",
      "101967     32.0\n",
      "101990    124.0\n",
      "101995     90.0\n",
      "101996    214.0\n",
      "102040    196.0\n",
      "Name: service_fee, Length: 3902, dtype: float64\n",
      "\n",
      "Outliers for 'minimum_nights':\n",
      "68        1.0\n",
      "472       NaN\n",
      "535       1.0\n",
      "554       NaN\n",
      "1104      1.0\n",
      "         ... \n",
      "101967    1.0\n",
      "101990    1.0\n",
      "101995    1.0\n",
      "101996    1.0\n",
      "102040    1.0\n",
      "Name: minimum_nights, Length: 3902, dtype: float64\n",
      "\n",
      "Outliers for 'number_of_reviews':\n",
      "68        338.0\n",
      "472       480.0\n",
      "535       401.0\n",
      "554       330.0\n",
      "1104      454.0\n",
      "          ...  \n",
      "101967    347.0\n",
      "101990    336.0\n",
      "101995    146.0\n",
      "101996    129.0\n",
      "102040    239.0\n",
      "Name: number_of_reviews, Length: 3902, dtype: float64\n",
      "\n",
      "Outliers for 'last_review':\n",
      "68         7/1/2019\n",
      "472        7/7/2019\n",
      "535        7/4/2019\n",
      "554       6/20/2019\n",
      "1104      6/18/2019\n",
      "            ...    \n",
      "101967     7/6/2019\n",
      "101990     7/5/2019\n",
      "101995    6/24/2019\n",
      "101996    6/23/2019\n",
      "102040    6/29/2019\n",
      "Name: last_review, Length: 3902, dtype: object\n",
      "\n",
      "Outliers for 'reviews_per_month':\n",
      "68         4.72\n",
      "472        6.70\n",
      "535        6.62\n",
      "554        7.14\n",
      "1104       5.27\n",
      "          ...  \n",
      "101967    13.48\n",
      "101990    11.91\n",
      "101995     5.28\n",
      "101996     5.19\n",
      "102040     8.58\n",
      "Name: reviews_per_month, Length: 3902, dtype: float64\n",
      "\n",
      "Outliers for 'availability_365':\n",
      "68          NaN\n",
      "472       319.0\n",
      "535       313.0\n",
      "554       420.0\n",
      "1104       21.0\n",
      "          ...  \n",
      "101967    159.0\n",
      "101990    345.0\n",
      "101995    212.0\n",
      "101996    180.0\n",
      "102040    361.0\n",
      "Name: availability_365, Length: 3902, dtype: float64\n",
      "\n",
      "Outliers for 'house_rules':\n",
      "68                                                      NaN\n",
      "472                                                     NaN\n",
      "535       No Smoking, no pets, no late night parties, fi...\n",
      "554       Please respect the place as if it was your own...\n",
      "1104                                                 #NAME?\n",
      "                                ...                        \n",
      "101967    Please be respectful of my things! I have a lo...\n",
      "101990    No smoking in the bedroom. Smoking is allowed ...\n",
      "101995    Be thoughtful and considerate! Be kind to the ...\n",
      "101996    No pets allowed. No smoking inside the house. ...\n",
      "102040    1. Please clean-up after yourself in the kitch...\n",
      "Name: house_rules, Length: 3902, dtype: object\n",
      "\n",
      "Outliers for 'license':\n",
      "68        NaN\n",
      "472       NaN\n",
      "535       NaN\n",
      "554       NaN\n",
      "1104      NaN\n",
      "         ... \n",
      "101967    NaN\n",
      "101990    NaN\n",
      "101995    NaN\n",
      "101996    NaN\n",
      "102040    NaN\n",
      "Name: license, Length: 3902, dtype: object\n",
      "\n"
     ]
    }
   ],
   "source": [
    "Q1 = properties['reviews_per_month'].quantile(0.25)\n",
    "Q3 = properties['reviews_per_month'].quantile(0.75)\n",
    "IQR = Q3 - Q1\n",
    "\n",
    "\n",
    "lower_bound = Q1 - 1.5 * IQR\n",
    "upper_bound = Q3 + 1.5 * IQR\n",
    "\n",
    "\n",
    "mask = (properties['reviews_per_month'] < lower_bound) | (properties['reviews_per_month'] > upper_bound)\n",
    "\n",
    "\n",
    "outliers = properties[mask]\n",
    "\n",
    "\n",
    "for column in outliers.columns:\n",
    "    print(f\"Outliers for '{column}':\")\n",
    "    print(outliers[column])\n",
    "    print()"
   ]
  },
  {
   "cell_type": "markdown",
   "id": "mexican-irrigation",
   "metadata": {},
   "source": [
    "#### 6.1d: Method 4 - custom rule\n",
    "\n",
    "It's perfectly acceptable to not want to get rid of all of the outliers so I may want to apply a custom rule to adapt to the dataset. \n"
   ]
  },
  {
   "cell_type": "code",
   "execution_count": 161,
   "id": "dimensional-float",
   "metadata": {},
   "outputs": [
    {
     "data": {
      "text/html": [
       "<div>\n",
       "<style scoped>\n",
       "    .dataframe tbody tr th:only-of-type {\n",
       "        vertical-align: middle;\n",
       "    }\n",
       "\n",
       "    .dataframe tbody tr th {\n",
       "        vertical-align: top;\n",
       "    }\n",
       "\n",
       "    .dataframe thead th {\n",
       "        text-align: right;\n",
       "    }\n",
       "</style>\n",
       "<table border=\"1\" class=\"dataframe\">\n",
       "  <thead>\n",
       "    <tr style=\"text-align: right;\">\n",
       "      <th></th>\n",
       "      <th>id</th>\n",
       "      <th>name</th>\n",
       "      <th>host_id</th>\n",
       "      <th>host_identity_verified</th>\n",
       "      <th>host_name</th>\n",
       "      <th>latitude</th>\n",
       "      <th>longitude</th>\n",
       "      <th>neighborhood_id</th>\n",
       "      <th>instant_bookable</th>\n",
       "      <th>cancellation_policy</th>\n",
       "      <th>room_type</th>\n",
       "      <th>price</th>\n",
       "      <th>service_fee</th>\n",
       "      <th>minimum_nights</th>\n",
       "      <th>number_of_reviews</th>\n",
       "      <th>last_review</th>\n",
       "      <th>reviews_per_month</th>\n",
       "      <th>availability_365</th>\n",
       "      <th>house_rules</th>\n",
       "      <th>license</th>\n",
       "    </tr>\n",
       "  </thead>\n",
       "  <tbody>\n",
       "  </tbody>\n",
       "</table>\n",
       "</div>"
      ],
      "text/plain": [
       "Empty DataFrame\n",
       "Columns: [id, name, host_id, host_identity_verified, host_name, latitude, longitude, neighborhood_id, instant_bookable, cancellation_policy, room_type, price, service_fee, minimum_nights, number_of_reviews, last_review, reviews_per_month, availability_365, house_rules, license]\n",
       "Index: []"
      ]
     },
     "execution_count": 161,
     "metadata": {},
     "output_type": "execute_result"
    }
   ],
   "source": [
    "# Filtered out reviews with less than 5 words and handle null values\n",
    "mask_short_reviews = properties['last_review'].apply(lambda x: isinstance(x, str) and len(x.split()) >= 5)\n",
    "filtered_reviews = properties[mask_short_reviews]\n",
    "filtered_reviews.head()"
   ]
  },
  {
   "cell_type": "markdown",
   "id": "aquatic-heritage",
   "metadata": {},
   "source": [
    "<hr/>"
   ]
  },
  {
   "cell_type": "markdown",
   "id": "general-hometown",
   "metadata": {},
   "source": [
    "## Task 7: Identified Duplicates"
   ]
  },
  {
   "cell_type": "markdown",
   "id": "dimensional-importance",
   "metadata": {},
   "source": [
    "### 7.1 Find Duplicate Rows"
   ]
  },
  {
   "cell_type": "code",
   "execution_count": 162,
   "id": "588f1296",
   "metadata": {},
   "outputs": [
    {
     "data": {
      "text/plain": [
       "0"
      ]
     },
     "execution_count": 162,
     "metadata": {},
     "output_type": "execute_result"
    }
   ],
   "source": [
    "neighborhoods.duplicated().sum()"
   ]
  },
  {
   "cell_type": "code",
   "execution_count": 163,
   "id": "a9ccb6e3",
   "metadata": {},
   "outputs": [
    {
     "data": {
      "text/plain": [
       "0"
      ]
     },
     "execution_count": 163,
     "metadata": {},
     "output_type": "execute_result"
    }
   ],
   "source": [
    "properties['id'].duplicated().sum()"
   ]
  },
  {
   "cell_type": "code",
   "execution_count": 164,
   "id": "e3b016f6",
   "metadata": {},
   "outputs": [
    {
     "data": {
      "text/plain": [
       "0"
      ]
     },
     "execution_count": 164,
     "metadata": {},
     "output_type": "execute_result"
    }
   ],
   "source": [
    "neighborhoods['id'].duplicated().sum()"
   ]
  },
  {
   "cell_type": "code",
   "execution_count": 165,
   "id": "6aa56c60",
   "metadata": {},
   "outputs": [
    {
     "data": {
      "text/plain": [
       "1001254     1\n",
       "38582590    1\n",
       "38581485    1\n",
       "38580933    1\n",
       "38580380    1\n",
       "           ..\n",
       "19789477    1\n",
       "19788925    1\n",
       "19788373    1\n",
       "19787821    1\n",
       "57367417    1\n",
       "Name: id, Length: 102058, dtype: int64"
      ]
     },
     "execution_count": 165,
     "metadata": {},
     "output_type": "execute_result"
    }
   ],
   "source": [
    "properties['id'].value_counts()"
   ]
  },
  {
   "cell_type": "code",
   "execution_count": 166,
   "id": "terminal-supervisor",
   "metadata": {},
   "outputs": [
    {
     "data": {
      "text/plain": [
       "0"
      ]
     },
     "execution_count": 166,
     "metadata": {},
     "output_type": "execute_result"
    }
   ],
   "source": [
    "properties.duplicated().sum()"
   ]
  },
  {
   "cell_type": "markdown",
   "id": "progressive-rachel",
   "metadata": {},
   "source": [
    "\n",
    "### 7.2 Observations\n",
    "\n",
    "<div style=\"background-color:#f8d7da; border:1px solid; padding:5px; margin:5px; font-weight:bold\"><font color=\"crimson\">\n",
    "No duplicates\n",
    "    </font></div>\n"
   ]
  },
  {
   "cell_type": "markdown",
   "id": "a4f7c3ad",
   "metadata": {},
   "source": [
    "No duplicates for properties or neighborhoods"
   ]
  },
  {
   "cell_type": "markdown",
   "id": "treated-currency",
   "metadata": {},
   "source": [
    "<hr/>"
   ]
  },
  {
   "cell_type": "markdown",
   "id": "planned-consistency",
   "metadata": {
    "tags": []
   },
   "source": [
    "## Task 8: Identified Unmatched Data"
   ]
  },
  {
   "cell_type": "code",
   "execution_count": 167,
   "id": "desirable-increase",
   "metadata": {},
   "outputs": [],
   "source": [
    "NYCmerged = neighborhoods.merge(properties, how='outer', left_on = 'id', right_on = 'neighborhood_id')"
   ]
  },
  {
   "cell_type": "code",
   "execution_count": 168,
   "id": "1dc69fca",
   "metadata": {},
   "outputs": [],
   "source": [
    "mask = properties['neighborhood_id'].isin(neighborhoods['id'])"
   ]
  },
  {
   "cell_type": "code",
   "execution_count": 169,
   "id": "120db975",
   "metadata": {},
   "outputs": [
    {
     "data": {
      "text/plain": [
       "102036"
      ]
     },
     "execution_count": 169,
     "metadata": {},
     "output_type": "execute_result"
    }
   ],
   "source": [
    "mask.sum()"
   ]
  },
  {
   "cell_type": "code",
   "execution_count": 170,
   "id": "2f6b9934",
   "metadata": {},
   "outputs": [],
   "source": [
    "mask1 = ~properties['neighborhood_id'].isin(neighborhoods['id'])"
   ]
  },
  {
   "cell_type": "code",
   "execution_count": 171,
   "id": "213a5565",
   "metadata": {},
   "outputs": [
    {
     "data": {
      "text/plain": [
       "22"
      ]
     },
     "execution_count": 171,
     "metadata": {},
     "output_type": "execute_result"
    }
   ],
   "source": [
    "mask1.sum()"
   ]
  },
  {
   "cell_type": "code",
   "execution_count": 172,
   "id": "informational-bleeding",
   "metadata": {
    "scrolled": true
   },
   "outputs": [
    {
     "data": {
      "text/html": [
       "<div>\n",
       "<style scoped>\n",
       "    .dataframe tbody tr th:only-of-type {\n",
       "        vertical-align: middle;\n",
       "    }\n",
       "\n",
       "    .dataframe tbody tr th {\n",
       "        vertical-align: top;\n",
       "    }\n",
       "\n",
       "    .dataframe thead th {\n",
       "        text-align: right;\n",
       "    }\n",
       "</style>\n",
       "<table border=\"1\" class=\"dataframe\">\n",
       "  <thead>\n",
       "    <tr style=\"text-align: right;\">\n",
       "      <th></th>\n",
       "      <th>id_x</th>\n",
       "      <th>neighborhood_group</th>\n",
       "      <th>neighborhood</th>\n",
       "      <th>country</th>\n",
       "      <th>id_y</th>\n",
       "      <th>name</th>\n",
       "      <th>host_id</th>\n",
       "      <th>host_identity_verified</th>\n",
       "      <th>host_name</th>\n",
       "      <th>latitude</th>\n",
       "      <th>...</th>\n",
       "      <th>room_type</th>\n",
       "      <th>price</th>\n",
       "      <th>service_fee</th>\n",
       "      <th>minimum_nights</th>\n",
       "      <th>number_of_reviews</th>\n",
       "      <th>last_review</th>\n",
       "      <th>reviews_per_month</th>\n",
       "      <th>availability_365</th>\n",
       "      <th>house_rules</th>\n",
       "      <th>license</th>\n",
       "    </tr>\n",
       "  </thead>\n",
       "  <tbody>\n",
       "    <tr>\n",
       "      <th>0</th>\n",
       "      <td>1.0</td>\n",
       "      <td>Brooklyn</td>\n",
       "      <td>Kensington</td>\n",
       "      <td>United States</td>\n",
       "      <td>1001254</td>\n",
       "      <td>Clean &amp; quiet apt home by the park</td>\n",
       "      <td>80014485718</td>\n",
       "      <td>unconfirmed</td>\n",
       "      <td>Madaline</td>\n",
       "      <td>40.64749</td>\n",
       "      <td>...</td>\n",
       "      <td>Private room</td>\n",
       "      <td>966.0</td>\n",
       "      <td>193.0</td>\n",
       "      <td>10.0</td>\n",
       "      <td>9.0</td>\n",
       "      <td>10/19/2021</td>\n",
       "      <td>0.21</td>\n",
       "      <td>286.0</td>\n",
       "      <td>Clean up and treat the home the way you'd like...</td>\n",
       "      <td>NaN</td>\n",
       "    </tr>\n",
       "    <tr>\n",
       "      <th>1</th>\n",
       "      <td>1.0</td>\n",
       "      <td>Brooklyn</td>\n",
       "      <td>Kensington</td>\n",
       "      <td>United States</td>\n",
       "      <td>1144382</td>\n",
       "      <td>Large and Cozy Private Bedroom</td>\n",
       "      <td>87014850347</td>\n",
       "      <td>unconfirmed</td>\n",
       "      <td>Richardson</td>\n",
       "      <td>40.64106</td>\n",
       "      <td>...</td>\n",
       "      <td>Private room</td>\n",
       "      <td>786.0</td>\n",
       "      <td>157.0</td>\n",
       "      <td>1.0</td>\n",
       "      <td>45.0</td>\n",
       "      <td>5/16/2019</td>\n",
       "      <td>0.46</td>\n",
       "      <td>NaN</td>\n",
       "      <td>House quiet hours are from 10 pm to 8 am.  We ...</td>\n",
       "      <td>NaN</td>\n",
       "    </tr>\n",
       "    <tr>\n",
       "      <th>2</th>\n",
       "      <td>1.0</td>\n",
       "      <td>Brooklyn</td>\n",
       "      <td>Kensington</td>\n",
       "      <td>United States</td>\n",
       "      <td>1221151</td>\n",
       "      <td>SUPER BIG AND COZY PRIVATE BEDROOM</td>\n",
       "      <td>50336791874</td>\n",
       "      <td>verified</td>\n",
       "      <td>Tucker</td>\n",
       "      <td>40.64302</td>\n",
       "      <td>...</td>\n",
       "      <td>Private room</td>\n",
       "      <td>779.0</td>\n",
       "      <td>156.0</td>\n",
       "      <td>-1.0</td>\n",
       "      <td>82.0</td>\n",
       "      <td>5/19/2019</td>\n",
       "      <td>0.94</td>\n",
       "      <td>131.0</td>\n",
       "      <td>no inside smoking, quiet(ish) after 11, help y...</td>\n",
       "      <td>NaN</td>\n",
       "    </tr>\n",
       "    <tr>\n",
       "      <th>3</th>\n",
       "      <td>1.0</td>\n",
       "      <td>Brooklyn</td>\n",
       "      <td>Kensington</td>\n",
       "      <td>United States</td>\n",
       "      <td>1409486</td>\n",
       "      <td>Private clean pleasant spacious room.</td>\n",
       "      <td>52738256367</td>\n",
       "      <td>verified</td>\n",
       "      <td>Morgan</td>\n",
       "      <td>40.64277</td>\n",
       "      <td>...</td>\n",
       "      <td>Private room</td>\n",
       "      <td>422.0</td>\n",
       "      <td>84.0</td>\n",
       "      <td>2.0</td>\n",
       "      <td>20.0</td>\n",
       "      <td>1/21/2019</td>\n",
       "      <td>0.42</td>\n",
       "      <td>181.0</td>\n",
       "      <td>NaN</td>\n",
       "      <td>NaN</td>\n",
       "    </tr>\n",
       "    <tr>\n",
       "      <th>4</th>\n",
       "      <td>1.0</td>\n",
       "      <td>Brooklyn</td>\n",
       "      <td>Kensington</td>\n",
       "      <td>United States</td>\n",
       "      <td>1435996</td>\n",
       "      <td>Kensington/Ditmas Park pied-a-terre</td>\n",
       "      <td>69568692921</td>\n",
       "      <td>unconfirmed</td>\n",
       "      <td>Sullivan</td>\n",
       "      <td>40.64330</td>\n",
       "      <td>...</td>\n",
       "      <td>Entire home/apt</td>\n",
       "      <td>261.0</td>\n",
       "      <td>52.0</td>\n",
       "      <td>30.0</td>\n",
       "      <td>3.0</td>\n",
       "      <td>7/30/2017</td>\n",
       "      <td>0.05</td>\n",
       "      <td>108.0</td>\n",
       "      <td>Absolutely no smoking or pets.</td>\n",
       "      <td>NaN</td>\n",
       "    </tr>\n",
       "    <tr>\n",
       "      <th>...</th>\n",
       "      <td>...</td>\n",
       "      <td>...</td>\n",
       "      <td>...</td>\n",
       "      <td>...</td>\n",
       "      <td>...</td>\n",
       "      <td>...</td>\n",
       "      <td>...</td>\n",
       "      <td>...</td>\n",
       "      <td>...</td>\n",
       "      <td>...</td>\n",
       "      <td>...</td>\n",
       "      <td>...</td>\n",
       "      <td>...</td>\n",
       "      <td>...</td>\n",
       "      <td>...</td>\n",
       "      <td>...</td>\n",
       "      <td>...</td>\n",
       "      <td>...</td>\n",
       "      <td>...</td>\n",
       "      <td>...</td>\n",
       "      <td>...</td>\n",
       "    </tr>\n",
       "    <tr>\n",
       "      <th>102053</th>\n",
       "      <td>NaN</td>\n",
       "      <td>NaN</td>\n",
       "      <td>NaN</td>\n",
       "      <td>NaN</td>\n",
       "      <td>23046391</td>\n",
       "      <td>Newly Renovated Stylish Luxury 2 bedroom, firs...</td>\n",
       "      <td>67664578708</td>\n",
       "      <td>verified</td>\n",
       "      <td>Roberto</td>\n",
       "      <td>40.83942</td>\n",
       "      <td>...</td>\n",
       "      <td>Entire home/apt</td>\n",
       "      <td>529.0</td>\n",
       "      <td>106.0</td>\n",
       "      <td>2.0</td>\n",
       "      <td>4.0</td>\n",
       "      <td>3/17/2019</td>\n",
       "      <td>0.63</td>\n",
       "      <td>310.0</td>\n",
       "      <td>Please remember that this is a residential bui...</td>\n",
       "      <td>NaN</td>\n",
       "    </tr>\n",
       "    <tr>\n",
       "      <th>102054</th>\n",
       "      <td>NaN</td>\n",
       "      <td>NaN</td>\n",
       "      <td>NaN</td>\n",
       "      <td>NaN</td>\n",
       "      <td>30325705</td>\n",
       "      <td>Close to train, bus stop, Zoo, Botanical Garden</td>\n",
       "      <td>38971844695</td>\n",
       "      <td>verified</td>\n",
       "      <td>Sian</td>\n",
       "      <td>40.84240</td>\n",
       "      <td>...</td>\n",
       "      <td>Private room</td>\n",
       "      <td>224.0</td>\n",
       "      <td>45.0</td>\n",
       "      <td>2.0</td>\n",
       "      <td>16.0</td>\n",
       "      <td>2/19/2022</td>\n",
       "      <td>3.27</td>\n",
       "      <td>131.0</td>\n",
       "      <td>NaN</td>\n",
       "      <td>NaN</td>\n",
       "    </tr>\n",
       "    <tr>\n",
       "      <th>102055</th>\n",
       "      <td>NaN</td>\n",
       "      <td>NaN</td>\n",
       "      <td>NaN</td>\n",
       "      <td>NaN</td>\n",
       "      <td>33615756</td>\n",
       "      <td>Peaceful cove</td>\n",
       "      <td>56325744675</td>\n",
       "      <td>verified</td>\n",
       "      <td>Rosalia</td>\n",
       "      <td>40.84160</td>\n",
       "      <td>...</td>\n",
       "      <td>Entire home/apt</td>\n",
       "      <td>914.0</td>\n",
       "      <td>183.0</td>\n",
       "      <td>7.0</td>\n",
       "      <td>3.0</td>\n",
       "      <td>1/2/2022</td>\n",
       "      <td>0.34</td>\n",
       "      <td>364.0</td>\n",
       "      <td>NaN</td>\n",
       "      <td>NaN</td>\n",
       "    </tr>\n",
       "    <tr>\n",
       "      <th>102056</th>\n",
       "      <td>NaN</td>\n",
       "      <td>NaN</td>\n",
       "      <td>NaN</td>\n",
       "      <td>NaN</td>\n",
       "      <td>37290760</td>\n",
       "      <td>Bronx zoo &amp; Botanical Garden one walk away</td>\n",
       "      <td>13609838900</td>\n",
       "      <td>unconfirmed</td>\n",
       "      <td>Rosalia</td>\n",
       "      <td>40.84385</td>\n",
       "      <td>...</td>\n",
       "      <td>Entire home/apt</td>\n",
       "      <td>508.0</td>\n",
       "      <td>102.0</td>\n",
       "      <td>7.0</td>\n",
       "      <td>2.0</td>\n",
       "      <td>4/20/2021</td>\n",
       "      <td>0.13</td>\n",
       "      <td>364.0</td>\n",
       "      <td>NaN</td>\n",
       "      <td>NaN</td>\n",
       "    </tr>\n",
       "    <tr>\n",
       "      <th>102057</th>\n",
       "      <td>NaN</td>\n",
       "      <td>NaN</td>\n",
       "      <td>NaN</td>\n",
       "      <td>NaN</td>\n",
       "      <td>41080642</td>\n",
       "      <td>Cozy Private Room Near Bronx Zoo</td>\n",
       "      <td>60706527993</td>\n",
       "      <td>unconfirmed</td>\n",
       "      <td>Stephanie</td>\n",
       "      <td>40.84328</td>\n",
       "      <td>...</td>\n",
       "      <td>Private room</td>\n",
       "      <td>302.0</td>\n",
       "      <td>60.0</td>\n",
       "      <td>1.0</td>\n",
       "      <td>3.0</td>\n",
       "      <td>10/8/2018</td>\n",
       "      <td>0.16</td>\n",
       "      <td>179.0</td>\n",
       "      <td>NaN</td>\n",
       "      <td>NaN</td>\n",
       "    </tr>\n",
       "  </tbody>\n",
       "</table>\n",
       "<p>102058 rows × 24 columns</p>\n",
       "</div>"
      ],
      "text/plain": [
       "        id_x neighborhood_group neighborhood        country      id_y  \\\n",
       "0        1.0           Brooklyn   Kensington  United States   1001254   \n",
       "1        1.0           Brooklyn   Kensington  United States   1144382   \n",
       "2        1.0           Brooklyn   Kensington  United States   1221151   \n",
       "3        1.0           Brooklyn   Kensington  United States   1409486   \n",
       "4        1.0           Brooklyn   Kensington  United States   1435996   \n",
       "...      ...                ...          ...            ...       ...   \n",
       "102053   NaN                NaN          NaN            NaN  23046391   \n",
       "102054   NaN                NaN          NaN            NaN  30325705   \n",
       "102055   NaN                NaN          NaN            NaN  33615756   \n",
       "102056   NaN                NaN          NaN            NaN  37290760   \n",
       "102057   NaN                NaN          NaN            NaN  41080642   \n",
       "\n",
       "                                                     name      host_id  \\\n",
       "0                      Clean & quiet apt home by the park  80014485718   \n",
       "1                          Large and Cozy Private Bedroom  87014850347   \n",
       "2                      SUPER BIG AND COZY PRIVATE BEDROOM  50336791874   \n",
       "3                   Private clean pleasant spacious room.  52738256367   \n",
       "4                     Kensington/Ditmas Park pied-a-terre  69568692921   \n",
       "...                                                   ...          ...   \n",
       "102053  Newly Renovated Stylish Luxury 2 bedroom, firs...  67664578708   \n",
       "102054    Close to train, bus stop, Zoo, Botanical Garden  38971844695   \n",
       "102055                                      Peaceful cove  56325744675   \n",
       "102056         Bronx zoo & Botanical Garden one walk away  13609838900   \n",
       "102057                   Cozy Private Room Near Bronx Zoo  60706527993   \n",
       "\n",
       "       host_identity_verified   host_name  latitude  ...        room_type  \\\n",
       "0                 unconfirmed    Madaline  40.64749  ...     Private room   \n",
       "1                 unconfirmed  Richardson  40.64106  ...     Private room   \n",
       "2                    verified      Tucker  40.64302  ...     Private room   \n",
       "3                    verified      Morgan  40.64277  ...     Private room   \n",
       "4                 unconfirmed    Sullivan  40.64330  ...  Entire home/apt   \n",
       "...                       ...         ...       ...  ...              ...   \n",
       "102053               verified     Roberto  40.83942  ...  Entire home/apt   \n",
       "102054               verified        Sian  40.84240  ...     Private room   \n",
       "102055               verified     Rosalia  40.84160  ...  Entire home/apt   \n",
       "102056            unconfirmed     Rosalia  40.84385  ...  Entire home/apt   \n",
       "102057            unconfirmed   Stephanie  40.84328  ...     Private room   \n",
       "\n",
       "        price service_fee minimum_nights number_of_reviews  last_review  \\\n",
       "0       966.0       193.0           10.0               9.0   10/19/2021   \n",
       "1       786.0       157.0            1.0              45.0    5/16/2019   \n",
       "2       779.0       156.0           -1.0              82.0    5/19/2019   \n",
       "3       422.0        84.0            2.0              20.0    1/21/2019   \n",
       "4       261.0        52.0           30.0               3.0    7/30/2017   \n",
       "...       ...         ...            ...               ...          ...   \n",
       "102053  529.0       106.0            2.0               4.0    3/17/2019   \n",
       "102054  224.0        45.0            2.0              16.0    2/19/2022   \n",
       "102055  914.0       183.0            7.0               3.0     1/2/2022   \n",
       "102056  508.0       102.0            7.0               2.0    4/20/2021   \n",
       "102057  302.0        60.0            1.0               3.0    10/8/2018   \n",
       "\n",
       "        reviews_per_month  availability_365  \\\n",
       "0                    0.21             286.0   \n",
       "1                    0.46               NaN   \n",
       "2                    0.94             131.0   \n",
       "3                    0.42             181.0   \n",
       "4                    0.05             108.0   \n",
       "...                   ...               ...   \n",
       "102053               0.63             310.0   \n",
       "102054               3.27             131.0   \n",
       "102055               0.34             364.0   \n",
       "102056               0.13             364.0   \n",
       "102057               0.16             179.0   \n",
       "\n",
       "                                              house_rules license  \n",
       "0       Clean up and treat the home the way you'd like...     NaN  \n",
       "1       House quiet hours are from 10 pm to 8 am.  We ...     NaN  \n",
       "2       no inside smoking, quiet(ish) after 11, help y...     NaN  \n",
       "3                                                     NaN     NaN  \n",
       "4                          Absolutely no smoking or pets.     NaN  \n",
       "...                                                   ...     ...  \n",
       "102053  Please remember that this is a residential bui...     NaN  \n",
       "102054                                                NaN     NaN  \n",
       "102055                                                NaN     NaN  \n",
       "102056                                                NaN     NaN  \n",
       "102057                                                NaN     NaN  \n",
       "\n",
       "[102058 rows x 24 columns]"
      ]
     },
     "execution_count": 172,
     "metadata": {},
     "output_type": "execute_result"
    }
   ],
   "source": [
    "NYCmerged"
   ]
  },
  {
   "cell_type": "markdown",
   "id": "upset-bracelet",
   "metadata": {},
   "source": [
    "\n",
    "### 8.2 Observations\n",
    "\n",
    "<div style=\"background-color:#f8d7da; border:1px solid; padding:5px; margin:5px; font-weight:bold\"><font color=\"b\">\n",
    "Only 22 did not match. \n",
    "    </font></div>\n"
   ]
  },
  {
   "cell_type": "markdown",
   "id": "changed-essay",
   "metadata": {},
   "source": [
    "<hr/>"
   ]
  },
  {
   "cell_type": "markdown",
   "id": "interracial-juice",
   "metadata": {},
   "source": [
    "# END OF NOTEBOOK"
   ]
  }
 ],
 "metadata": {
  "kernelspec": {
   "display_name": "Python 3 (ipykernel)",
   "language": "python",
   "name": "python3"
  },
  "language_info": {
   "codemirror_mode": {
    "name": "ipython",
    "version": 3
   },
   "file_extension": ".py",
   "mimetype": "text/x-python",
   "name": "python",
   "nbconvert_exporter": "python",
   "pygments_lexer": "ipython3",
   "version": "3.9.12"
  }
 },
 "nbformat": 4,
 "nbformat_minor": 5
}
